{
 "cells": [
  {
   "cell_type": "markdown",
   "id": "73f4978e-bad8-4441-bd3a-30b8eb3452a7",
   "metadata": {},
   "source": [
    "# QVA, RV 전처리\n",
    "---"
   ]
  },
  {
   "cell_type": "code",
   "execution_count": 59,
   "id": "38f30444-3872-4de7-ba2c-9825cce65e3d",
   "metadata": {},
   "outputs": [],
   "source": [
    "import pandas as pd\n",
    "import numpy as np\n",
    "import matplotlib.pyplot as plt"
   ]
  },
  {
   "cell_type": "markdown",
   "id": "ad427111-37c3-4ec9-8f60-b4878b77b547",
   "metadata": {},
   "source": [
    "## [1] 함수 정리\n",
    "---"
   ]
  },
  {
   "cell_type": "code",
   "execution_count": 21,
   "id": "e9ddfa3b-0ae6-40f8-ba3b-4466fc8d6696",
   "metadata": {},
   "outputs": [],
   "source": [
    "def connect_year_month(data: pd.DataFrame, year: str, month: str, is_num=True):\n",
    "    \"\"\"connect year and month column to datetime\n",
    "    Args:\n",
    "        data (pd.DataFrame): dataframe\n",
    "        year (str): year column name\n",
    "        month (str): month column name\n",
    "\n",
    "    Returns:\n",
    "        pd.DataFrame: dataframe\n",
    "    \"\"\"\n",
    "    data_c = data.copy()\n",
    "    data_c[year] = data_c[year].astype(str)\n",
    "    data_c[month] = data_c[month].astype(str)\n",
    "\n",
    "    if is_num == False:\n",
    "        if data_c[year].iloc[0][-1] == \"년\":\n",
    "            data_c[year] = data_c[year].str[:-1]\n",
    "        if data_c[month].iloc[0][-1] == \"월\":\n",
    "            data_c[month] = data_c[month].str[:-1]\n",
    "\n",
    "    data_c[year] = data_c[year] + \"-\" + data_c[month]\n",
    "    data_c[year] = pd.to_datetime(data_c[year])\n",
    "    data_c.drop(columns=month, inplace=True)\n",
    "    data_c.rename(columns={year: \"DATE\"}, inplace=True)\n",
    "\n",
    "    return data_c"
   ]
  },
  {
   "cell_type": "markdown",
   "id": "debb37ac-d054-4f58-b4ff-76acb1dcfce4",
   "metadata": {},
   "source": [
    "## [2] 데이터 로딩\n",
    "---"
   ]
  },
  {
   "cell_type": "code",
   "execution_count": 101,
   "id": "962e721b-e7b8-45b1-b320-c145936588d6",
   "metadata": {},
   "outputs": [],
   "source": [
    "data_qva = pd.read_csv(\"./제조업부가가치.csv\")\n",
    "data_rv = pd.read_csv(\"./상대가격.csv\")"
   ]
  },
  {
   "cell_type": "code",
   "execution_count": 5,
   "id": "d8d6b144-da22-4410-9e87-a845dceba990",
   "metadata": {},
   "outputs": [
    {
     "name": "stdout",
     "output_type": "stream",
     "text": [
      "<class 'pandas.core.frame.DataFrame'>\n",
      "RangeIndex: 100 entries, 0 to 99\n",
      "Data columns (total 3 columns):\n",
      " #   Column      Non-Null Count  Dtype  \n",
      "---  ------      --------------  -----  \n",
      " 0   Unnamed: 0  100 non-null    int64  \n",
      " 1   분기          100 non-null    object \n",
      " 2   제조업 가치      100 non-null    float64\n",
      "dtypes: float64(1), int64(1), object(1)\n",
      "memory usage: 2.5+ KB\n"
     ]
    }
   ],
   "source": [
    "data_qva.info()"
   ]
  },
  {
   "cell_type": "code",
   "execution_count": 6,
   "id": "7438789f-1edf-45c3-a3a9-3510bc94b399",
   "metadata": {},
   "outputs": [
    {
     "name": "stdout",
     "output_type": "stream",
     "text": [
      "<class 'pandas.core.frame.DataFrame'>\n",
      "RangeIndex: 300 entries, 0 to 299\n",
      "Data columns (total 5 columns):\n",
      " #   Column      Non-Null Count  Dtype  \n",
      "---  ------      --------------  -----  \n",
      " 0   연도          300 non-null    int64  \n",
      " 1   월           300 non-null    int64  \n",
      " 2   상대가격        300 non-null    float64\n",
      " 3   산업용 도시가스    300 non-null    float64\n",
      " 4   원유정제 처리 제품  300 non-null    float64\n",
      "dtypes: float64(3), int64(2)\n",
      "memory usage: 11.8 KB\n"
     ]
    }
   ],
   "source": [
    "data_rv.info()"
   ]
  },
  {
   "cell_type": "markdown",
   "id": "dd53d944-2c30-4299-a0e2-ec3fb62dc436",
   "metadata": {},
   "source": [
    "## [3] 데이터 전처리\n",
    "---"
   ]
  },
  {
   "cell_type": "markdown",
   "id": "0b4f2e4a-17a5-4416-b8ca-8932858fc249",
   "metadata": {},
   "source": [
    "### [3-1] 데이터 컬럼명 정리"
   ]
  },
  {
   "cell_type": "code",
   "execution_count": 7,
   "id": "7da115b1-5c07-471e-bdc3-2ccc3ac73377",
   "metadata": {},
   "outputs": [],
   "source": [
    "qva_cols = [\"YEAR\", \"QUARTER\", \"QVA\"]\n",
    "rc_cols = [\"YEAR\", \"MONTH\", \"RV\", \"GAS_PRICE_IND\", \"OIL_PRICE\"]\n",
    "\n",
    "data_qva.columns = qva_cols\n",
    "data_rv.columns = rc_cols"
   ]
  },
  {
   "cell_type": "markdown",
   "id": "594e7073-36e4-4350-bc07-097b53ee94ee",
   "metadata": {},
   "source": [
    "### [3-2] 데이터 타임 전처리"
   ]
  },
  {
   "cell_type": "code",
   "execution_count": 25,
   "id": "20fc1a98-adf8-464d-97d9-133de3c6df0d",
   "metadata": {},
   "outputs": [
    {
     "data": {
      "text/html": [
       "<div>\n",
       "<style scoped>\n",
       "    .dataframe tbody tr th:only-of-type {\n",
       "        vertical-align: middle;\n",
       "    }\n",
       "\n",
       "    .dataframe tbody tr th {\n",
       "        vertical-align: top;\n",
       "    }\n",
       "\n",
       "    .dataframe thead th {\n",
       "        text-align: right;\n",
       "    }\n",
       "</style>\n",
       "<table border=\"1\" class=\"dataframe\">\n",
       "  <thead>\n",
       "    <tr style=\"text-align: right;\">\n",
       "      <th></th>\n",
       "      <th>DATE</th>\n",
       "      <th>RV</th>\n",
       "      <th>GAS_PRICE_IND</th>\n",
       "      <th>OIL_PRICE</th>\n",
       "    </tr>\n",
       "  </thead>\n",
       "  <tbody>\n",
       "    <tr>\n",
       "      <th>0</th>\n",
       "      <td>1996-01-01</td>\n",
       "      <td>0.97</td>\n",
       "      <td>26.94</td>\n",
       "      <td>27.86</td>\n",
       "    </tr>\n",
       "    <tr>\n",
       "      <th>1</th>\n",
       "      <td>1996-02-01</td>\n",
       "      <td>0.93</td>\n",
       "      <td>26.94</td>\n",
       "      <td>29.04</td>\n",
       "    </tr>\n",
       "    <tr>\n",
       "      <th>2</th>\n",
       "      <td>1996-03-01</td>\n",
       "      <td>0.96</td>\n",
       "      <td>26.94</td>\n",
       "      <td>27.99</td>\n",
       "    </tr>\n",
       "    <tr>\n",
       "      <th>3</th>\n",
       "      <td>1996-04-01</td>\n",
       "      <td>0.94</td>\n",
       "      <td>26.94</td>\n",
       "      <td>28.74</td>\n",
       "    </tr>\n",
       "    <tr>\n",
       "      <th>4</th>\n",
       "      <td>1996-05-01</td>\n",
       "      <td>0.92</td>\n",
       "      <td>26.94</td>\n",
       "      <td>29.18</td>\n",
       "    </tr>\n",
       "    <tr>\n",
       "      <th>...</th>\n",
       "      <td>...</td>\n",
       "      <td>...</td>\n",
       "      <td>...</td>\n",
       "      <td>...</td>\n",
       "    </tr>\n",
       "    <tr>\n",
       "      <th>295</th>\n",
       "      <td>2020-08-01</td>\n",
       "      <td>0.86</td>\n",
       "      <td>72.93</td>\n",
       "      <td>84.71</td>\n",
       "    </tr>\n",
       "    <tr>\n",
       "      <th>296</th>\n",
       "      <td>2020-09-01</td>\n",
       "      <td>0.80</td>\n",
       "      <td>65.24</td>\n",
       "      <td>81.26</td>\n",
       "    </tr>\n",
       "    <tr>\n",
       "      <th>297</th>\n",
       "      <td>2020-10-01</td>\n",
       "      <td>0.76</td>\n",
       "      <td>59.16</td>\n",
       "      <td>78.13</td>\n",
       "    </tr>\n",
       "    <tr>\n",
       "      <th>298</th>\n",
       "      <td>2020-11-01</td>\n",
       "      <td>0.75</td>\n",
       "      <td>58.72</td>\n",
       "      <td>78.64</td>\n",
       "    </tr>\n",
       "    <tr>\n",
       "      <th>299</th>\n",
       "      <td>2020-12-01</td>\n",
       "      <td>0.72</td>\n",
       "      <td>63.87</td>\n",
       "      <td>88.53</td>\n",
       "    </tr>\n",
       "  </tbody>\n",
       "</table>\n",
       "<p>300 rows × 4 columns</p>\n",
       "</div>"
      ],
      "text/plain": [
       "          DATE    RV  GAS_PRICE_IND  OIL_PRICE\n",
       "0   1996-01-01  0.97          26.94      27.86\n",
       "1   1996-02-01  0.93          26.94      29.04\n",
       "2   1996-03-01  0.96          26.94      27.99\n",
       "3   1996-04-01  0.94          26.94      28.74\n",
       "4   1996-05-01  0.92          26.94      29.18\n",
       "..         ...   ...            ...        ...\n",
       "295 2020-08-01  0.86          72.93      84.71\n",
       "296 2020-09-01  0.80          65.24      81.26\n",
       "297 2020-10-01  0.76          59.16      78.13\n",
       "298 2020-11-01  0.75          58.72      78.64\n",
       "299 2020-12-01  0.72          63.87      88.53\n",
       "\n",
       "[300 rows x 4 columns]"
      ]
     },
     "execution_count": 25,
     "metadata": {},
     "output_type": "execute_result"
    }
   ],
   "source": [
    "# 상대가격 데이터 데이트타임\n",
    "data_rv_con = connect_year_month(data_rv, year=\"YEAR\", month=\"MONTH\")\n",
    "data_rv_con"
   ]
  },
  {
   "cell_type": "code",
   "execution_count": 27,
   "id": "bfda467c-d50f-4f38-aebd-68726adfddfa",
   "metadata": {},
   "outputs": [
    {
     "data": {
      "text/html": [
       "<div>\n",
       "<style scoped>\n",
       "    .dataframe tbody tr th:only-of-type {\n",
       "        vertical-align: middle;\n",
       "    }\n",
       "\n",
       "    .dataframe tbody tr th {\n",
       "        vertical-align: top;\n",
       "    }\n",
       "\n",
       "    .dataframe thead th {\n",
       "        text-align: right;\n",
       "    }\n",
       "</style>\n",
       "<table border=\"1\" class=\"dataframe\">\n",
       "  <thead>\n",
       "    <tr style=\"text-align: right;\">\n",
       "      <th></th>\n",
       "      <th>YEAR</th>\n",
       "      <th>QUARTER</th>\n",
       "      <th>QVA</th>\n",
       "    </tr>\n",
       "  </thead>\n",
       "  <tbody>\n",
       "    <tr>\n",
       "      <th>0</th>\n",
       "      <td>1996</td>\n",
       "      <td>Q1</td>\n",
       "      <td>36550.3</td>\n",
       "    </tr>\n",
       "    <tr>\n",
       "      <th>1</th>\n",
       "      <td>1996</td>\n",
       "      <td>Q2</td>\n",
       "      <td>37152.4</td>\n",
       "    </tr>\n",
       "    <tr>\n",
       "      <th>2</th>\n",
       "      <td>1996</td>\n",
       "      <td>Q3</td>\n",
       "      <td>37792.4</td>\n",
       "    </tr>\n",
       "    <tr>\n",
       "      <th>3</th>\n",
       "      <td>1996</td>\n",
       "      <td>Q4</td>\n",
       "      <td>38372.4</td>\n",
       "    </tr>\n",
       "    <tr>\n",
       "      <th>4</th>\n",
       "      <td>1997</td>\n",
       "      <td>Q1</td>\n",
       "      <td>38710.8</td>\n",
       "    </tr>\n",
       "  </tbody>\n",
       "</table>\n",
       "</div>"
      ],
      "text/plain": [
       "   YEAR QUARTER      QVA\n",
       "0  1996      Q1  36550.3\n",
       "1  1996      Q2  37152.4\n",
       "2  1996      Q3  37792.4\n",
       "3  1996      Q4  38372.4\n",
       "4  1997      Q1  38710.8"
      ]
     },
     "execution_count": 27,
     "metadata": {},
     "output_type": "execute_result"
    }
   ],
   "source": [
    "# 제조업가치 분기를 데이트타임으로 변경\n",
    "data_qva.head()"
   ]
  },
  {
   "cell_type": "code",
   "execution_count": 78,
   "id": "9d9203f2-7a79-42ec-be6a-f3438d29cc6c",
   "metadata": {},
   "outputs": [],
   "source": [
    "# 월별 데이터와 쿼터별 데이터 생성\n",
    "date_range = pd.date_range(\"1996-01-01\", \"2020-12-01\", freq=\"MS\")\n",
    "quarter_range = pd.date_range(\"1996-01-01\", \"2020-12-01\", freq=\"QS\")\n",
    "\n",
    "data_date = pd.DataFrame({\"DATE\" :date_range.to_list()})\n",
    "data_quarter = pd.DataFrame({\"DATE\" :quarter_range.to_list()})"
   ]
  },
  {
   "cell_type": "code",
   "execution_count": 79,
   "id": "00fb1aa1-0e43-4858-816d-1145b9ef9bc3",
   "metadata": {},
   "outputs": [],
   "source": [
    "# QVA값 입력하기\n",
    "QVA = data_qva[\"QVA\"]\n",
    "data_quarter[\"QVA\"] = QVA\n",
    "data_date[\"QVA\"] = np.NAN\n",
    "\n",
    "# 인덱스 시간으로 변경\n",
    "data_quarter.set_index(\"DATE\", inplace=True)\n",
    "data_date.set_index(\"DATE\", inplace=True)"
   ]
  },
  {
   "cell_type": "code",
   "execution_count": 96,
   "id": "e73f0491-8a37-45cd-bab1-277dc2e67a33",
   "metadata": {},
   "outputs": [],
   "source": [
    "# 데이터 합치고 컬럼 하나 드롭하기\n",
    "data_full = pd.concat([data_quarter, data_date], axis=1)\n",
    "data_full.columns = [\"QVA\", \"drop\"]\n",
    "data_final = data_full.drop(columns=\"drop\")"
   ]
  },
  {
   "cell_type": "markdown",
   "id": "659817b2-9460-4a97-bffc-1b402d4d9bf3",
   "metadata": {},
   "source": [
    "### [3-3] 결측치 처리"
   ]
  },
  {
   "cell_type": "code",
   "execution_count": 98,
   "id": "df4236e9-6a87-4a34-a8b1-545cccfeb787",
   "metadata": {},
   "outputs": [],
   "source": [
    "data_interploate = data_final.interpolate()"
   ]
  },
  {
   "cell_type": "code",
   "execution_count": 99,
   "id": "3955af98-c6f2-4e78-a626-2b71acf7c9eb",
   "metadata": {},
   "outputs": [],
   "source": [
    "data_ffill = data_final.fillna(method=\"ffill\")"
   ]
  },
  {
   "cell_type": "markdown",
   "id": "ecac4379-656b-487a-bc99-babcc4ef6371",
   "metadata": {},
   "source": [
    "## [4] 데이터 저장\n",
    "---"
   ]
  },
  {
   "cell_type": "code",
   "execution_count": 102,
   "id": "2ba7f44f-e8a9-4c12-beb5-0a8ca172dd3c",
   "metadata": {},
   "outputs": [],
   "source": [
    "data_rv_con.to_csv(\"data_rv.csv\")\n",
    "data_interploate.to_csv(\"data_qva_inter.csv\")\n",
    "data_ffill.to_csv(\"data_qva_ff.csv\")"
   ]
  },
  {
   "cell_type": "code",
   "execution_count": null,
   "id": "54e602b7-2c95-4afa-85ae-e1a5daabc4b6",
   "metadata": {},
   "outputs": [],
   "source": []
  }
 ],
 "metadata": {
  "kernelspec": {
   "display_name": "Python 3 (ipykernel)",
   "language": "python",
   "name": "python3"
  },
  "language_info": {
   "codemirror_mode": {
    "name": "ipython",
    "version": 3
   },
   "file_extension": ".py",
   "mimetype": "text/x-python",
   "name": "python",
   "nbconvert_exporter": "python",
   "pygments_lexer": "ipython3",
   "version": "3.10.6"
  }
 },
 "nbformat": 4,
 "nbformat_minor": 5
}
