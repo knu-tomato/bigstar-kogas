{
 "cells": [
  {
   "cell_type": "markdown",
   "id": "70595113-ed97-49c5-95a3-1ffdb083ae54",
   "metadata": {},
   "source": [
    "# 판매전력추이 - 결측치 시계열\n",
    "---"
   ]
  },
  {
   "cell_type": "code",
   "execution_count": 2,
   "id": "39451017-6090-4135-a2f9-ccd7cdd876c1",
   "metadata": {},
   "outputs": [],
   "source": [
    "import pandas as pd\n",
    "import numpy as np\n",
    "import scipy as sp\n",
    "import matplotlib.pyplot as plt"
   ]
  },
  {
   "cell_type": "markdown",
   "id": "ff6b2f99-ff1f-4891-ac6a-bcc9bdaf0d5f",
   "metadata": {},
   "source": [
    "## [1] 함수 정리\n",
    "---"
   ]
  },
  {
   "cell_type": "code",
   "execution_count": null,
   "id": "acb9f237-d5e2-4c48-8795-e82e57a7074a",
   "metadata": {},
   "outputs": [],
   "source": []
  },
  {
   "cell_type": "code",
   "execution_count": null,
   "id": "b818e5cd-9e3a-480e-b847-a3c565db39d8",
   "metadata": {},
   "outputs": [],
   "source": []
  },
  {
   "cell_type": "code",
   "execution_count": null,
   "id": "7422425f-4ed9-4ee3-8e90-12c024037c54",
   "metadata": {},
   "outputs": [],
   "source": []
  },
  {
   "cell_type": "markdown",
   "id": "a3e95040-f6b1-4b43-bdbd-903ee6562690",
   "metadata": {},
   "source": [
    "## [2] 데이터 로딩\n",
    "---"
   ]
  },
  {
   "cell_type": "code",
   "execution_count": 7,
   "id": "ce8e0c50-6949-4a5f-97c8-a1e8e812d426",
   "metadata": {},
   "outputs": [],
   "source": [
    "df_97_20 = pd.read_csv(\"./용도별판매전략_97_20.csv\")"
   ]
  },
  {
   "cell_type": "code",
   "execution_count": 8,
   "id": "0c917f88-7e77-4ac9-ac82-7ad91c22e663",
   "metadata": {},
   "outputs": [
    {
     "data": {
      "text/html": [
       "<div>\n",
       "<style scoped>\n",
       "    .dataframe tbody tr th:only-of-type {\n",
       "        vertical-align: middle;\n",
       "    }\n",
       "\n",
       "    .dataframe tbody tr th {\n",
       "        vertical-align: top;\n",
       "    }\n",
       "\n",
       "    .dataframe thead th {\n",
       "        text-align: right;\n",
       "    }\n",
       "</style>\n",
       "<table border=\"1\" class=\"dataframe\">\n",
       "  <thead>\n",
       "    <tr style=\"text-align: right;\">\n",
       "      <th></th>\n",
       "      <th>시점</th>\n",
       "      <th>합계</th>\n",
       "      <th>가정용</th>\n",
       "      <th>공공용</th>\n",
       "      <th>서비스업</th>\n",
       "      <th>민수용_합계</th>\n",
       "      <th>농림어업</th>\n",
       "      <th>광업</th>\n",
       "      <th>제조업</th>\n",
       "      <th>산업용_합계</th>\n",
       "    </tr>\n",
       "  </thead>\n",
       "  <tbody>\n",
       "    <tr>\n",
       "      <th>0</th>\n",
       "      <td>1997-01-01</td>\n",
       "      <td>16224867</td>\n",
       "      <td>2814138</td>\n",
       "      <td>557379</td>\n",
       "      <td>3616542</td>\n",
       "      <td>6988059</td>\n",
       "      <td>301811</td>\n",
       "      <td>80421</td>\n",
       "      <td>8854576</td>\n",
       "      <td>9236808</td>\n",
       "    </tr>\n",
       "    <tr>\n",
       "      <th>1</th>\n",
       "      <td>1997-02-01</td>\n",
       "      <td>15363840</td>\n",
       "      <td>2788312</td>\n",
       "      <td>558610</td>\n",
       "      <td>3551611</td>\n",
       "      <td>6898533</td>\n",
       "      <td>327617</td>\n",
       "      <td>70471</td>\n",
       "      <td>8067220</td>\n",
       "      <td>8465308</td>\n",
       "    </tr>\n",
       "    <tr>\n",
       "      <th>2</th>\n",
       "      <td>1997-03-01</td>\n",
       "      <td>16094268</td>\n",
       "      <td>2555048</td>\n",
       "      <td>528672</td>\n",
       "      <td>3333225</td>\n",
       "      <td>6416945</td>\n",
       "      <td>345359</td>\n",
       "      <td>81877</td>\n",
       "      <td>9250086</td>\n",
       "      <td>9677322</td>\n",
       "    </tr>\n",
       "    <tr>\n",
       "      <th>3</th>\n",
       "      <td>1997-04-01</td>\n",
       "      <td>16266027</td>\n",
       "      <td>2629204</td>\n",
       "      <td>555354</td>\n",
       "      <td>3430624</td>\n",
       "      <td>6615182</td>\n",
       "      <td>292235</td>\n",
       "      <td>84596</td>\n",
       "      <td>9274014</td>\n",
       "      <td>9650845</td>\n",
       "    </tr>\n",
       "    <tr>\n",
       "      <th>4</th>\n",
       "      <td>1997-05-01</td>\n",
       "      <td>16028072</td>\n",
       "      <td>2525076</td>\n",
       "      <td>511468</td>\n",
       "      <td>3333483</td>\n",
       "      <td>6370027</td>\n",
       "      <td>302913</td>\n",
       "      <td>80963</td>\n",
       "      <td>9274169</td>\n",
       "      <td>9658045</td>\n",
       "    </tr>\n",
       "  </tbody>\n",
       "</table>\n",
       "</div>"
      ],
      "text/plain": [
       "           시점        합계      가정용     공공용     서비스업   민수용_합계    농림어업     광업  \\\n",
       "0  1997-01-01  16224867  2814138  557379  3616542  6988059  301811  80421   \n",
       "1  1997-02-01  15363840  2788312  558610  3551611  6898533  327617  70471   \n",
       "2  1997-03-01  16094268  2555048  528672  3333225  6416945  345359  81877   \n",
       "3  1997-04-01  16266027  2629204  555354  3430624  6615182  292235  84596   \n",
       "4  1997-05-01  16028072  2525076  511468  3333483  6370027  302913  80963   \n",
       "\n",
       "       제조업   산업용_합계  \n",
       "0  8854576  9236808  \n",
       "1  8067220  8465308  \n",
       "2  9250086  9677322  \n",
       "3  9274014  9650845  \n",
       "4  9274169  9658045  "
      ]
     },
     "execution_count": 8,
     "metadata": {},
     "output_type": "execute_result"
    }
   ],
   "source": [
    "df_97_20.head(5)"
   ]
  },
  {
   "cell_type": "code",
   "execution_count": null,
   "id": "ab0445cf-937d-4f31-bbb3-c13b468e2bc8",
   "metadata": {},
   "outputs": [],
   "source": []
  }
 ],
 "metadata": {
  "kernelspec": {
   "display_name": "Python 3 (ipykernel)",
   "language": "python",
   "name": "python3"
  },
  "language_info": {
   "codemirror_mode": {
    "name": "ipython",
    "version": 3
   },
   "file_extension": ".py",
   "mimetype": "text/x-python",
   "name": "python",
   "nbconvert_exporter": "python",
   "pygments_lexer": "ipython3",
   "version": "3.10.6"
  }
 },
 "nbformat": 4,
 "nbformat_minor": 5
}
