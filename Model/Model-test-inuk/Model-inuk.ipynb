{
 "cells": [
  {
   "cell_type": "markdown",
   "id": "74d46010-6bfd-4fed-b14b-71203ae3a679",
   "metadata": {},
   "source": [
    "# XGBoost 모델 테스트\n",
    "---"
   ]
  },
  {
   "cell_type": "code",
   "execution_count": 2,
   "id": "8bb9ae5c-a58b-4606-afa0-3aae593b5afc",
   "metadata": {},
   "outputs": [],
   "source": [
    "import pandas as pd\n",
    "import numpy as np\n",
    "from sklearn.preprocessing import StandardScaler\n",
    "import xgboost"
   ]
  },
  {
   "cell_type": "code",
   "execution_count": 6,
   "id": "518da5ab-e34a-4c80-8ffd-f9c235733d2a",
   "metadata": {},
   "outputs": [],
   "source": [
    "def connect_year_month(data: pd.DataFrame, year: str, month: str, is_num=True):\n",
    "    \"\"\"connect year and month column to datetime\n",
    "    Args:\n",
    "        data (pd.DataFrame): dataframe\n",
    "        year (str): year column name\n",
    "        month (str): month column name\n",
    "\n",
    "    Returns:\n",
    "        pd.DataFrame: dataframe\n",
    "    \"\"\"\n",
    "    data_c = data.copy()\n",
    "    data_c[year] = data_c[year].astype(str)\n",
    "    data_c[month] = data_c[month].astype(str)\n",
    "\n",
    "    if is_num == False:\n",
    "        if data_c[year].iloc[0][-1] == \"년\":\n",
    "            data_c[year] = data_c[year].str[:-1]\n",
    "        if data_c[month].iloc[0][-1] == \"월\":\n",
    "            data_c[month] = data_c[month].str[:-1]\n",
    "\n",
    "    data_c[year] = data_c[year] + \"-\" + data_c[month]\n",
    "    data_c[year] = pd.to_datetime(data_c[year])\n",
    "    data_c.drop(columns=month, inplace=True)\n",
    "\n",
    "    return data_c"
   ]
  },
  {
   "cell_type": "markdown",
   "id": "a4140d9d-a3b0-4081-b4ac-79d48082dc6e",
   "metadata": {},
   "source": [
    "## [1] 데이터 로딩\n",
    "---"
   ]
  },
  {
   "cell_type": "code",
   "execution_count": 10,
   "id": "2e2a1bba-4881-40de-bb62-daa0d7870b84",
   "metadata": {},
   "outputs": [],
   "source": [
    "target = pd.read_csv(\"./target.csv\")\n",
    "\n",
    "data = pd.read_csv(\"./data.csv\")"
   ]
  },
  {
   "cell_type": "code",
   "execution_count": 4,
   "id": "260fbf31-8fc4-448b-b59f-680ddcedd2f9",
   "metadata": {},
   "outputs": [
    {
     "name": "stdout",
     "output_type": "stream",
     "text": [
      "<class 'pandas.core.frame.DataFrame'>\n",
      "RangeIndex: 300 entries, 0 to 299\n",
      "Data columns (total 3 columns):\n",
      " #   Column  Non-Null Count  Dtype \n",
      "---  ------  --------------  ----- \n",
      " 0   DATE    300 non-null    object\n",
      " 1   IND     300 non-null    int64 \n",
      " 2   CIVIL   300 non-null    int64 \n",
      "dtypes: int64(2), object(1)\n",
      "memory usage: 7.2+ KB\n"
     ]
    }
   ],
   "source": [
    "target.info()"
   ]
  },
  {
   "cell_type": "code",
   "execution_count": 5,
   "id": "8bb47274-daae-44e1-b648-8b521f51f0c4",
   "metadata": {},
   "outputs": [
    {
     "name": "stdout",
     "output_type": "stream",
     "text": [
      "<class 'pandas.core.frame.DataFrame'>\n",
      "RangeIndex: 300 entries, 0 to 299\n",
      "Data columns (total 33 columns):\n",
      " #   Column            Non-Null Count  Dtype  \n",
      "---  ------            --------------  -----  \n",
      " 0   YEAR              300 non-null    int64  \n",
      " 1   MONTH             300 non-null    int64  \n",
      " 2   AT                300 non-null    float64\n",
      " 3   LT                300 non-null    float64\n",
      " 4   HT                300 non-null    float64\n",
      " 5   CAP_TEMP_EF       300 non-null    float64\n",
      " 6   DONGNAM_TEMP_EF   300 non-null    float64\n",
      " 7   DAEGYUNG_TEMP_EF  300 non-null    float64\n",
      " 8   CHOONG_TEMP_EF    300 non-null    float64\n",
      " 9   HONAM_TEMP_EF     300 non-null    float64\n",
      " 10  MEAN_TEMP_EF      300 non-null    float64\n",
      " 11  POWER_WATER       300 non-null    int64  \n",
      " 12  POWER_FIRE        300 non-null    int64  \n",
      " 13  POWER_NUCLEAR     300 non-null    int64  \n",
      " 14  POWER_NAEYEON     300 non-null    int64  \n",
      " 15  POWER_GROUP       300 non-null    int64  \n",
      " 16  POWER_TRANS       300 non-null    int64  \n",
      " 17  POWER_GAS         300 non-null    int64  \n",
      " 18  POWER_JUNG        300 non-null    int64  \n",
      " 19  POWER_MOO         300 non-null    int64  \n",
      " 20  POWER_YOU         300 non-null    int64  \n",
      " 21  POWER_LNG         300 non-null    float64\n",
      " 22  all               300 non-null    int64  \n",
      " 23  family            300 non-null    int64  \n",
      " 24  public            300 non-null    int64  \n",
      " 25  service           300 non-null    int64  \n",
      " 26  civil_sum         300 non-null    int64  \n",
      " 27  argri_fishing     300 non-null    int64  \n",
      " 28  mining            300 non-null    int64  \n",
      " 29  manufact          300 non-null    int64  \n",
      " 30  ind_sum           300 non-null    int64  \n",
      " 31  CIV               300 non-null    int64  \n",
      " 32  IND               300 non-null    int64  \n",
      "dtypes: float64(10), int64(23)\n",
      "memory usage: 77.5 KB\n"
     ]
    }
   ],
   "source": [
    "data.info()"
   ]
  },
  {
   "cell_type": "markdown",
   "id": "a4dacc06-eed9-44f3-88ea-aec23857b30d",
   "metadata": {},
   "source": [
    "## [2] 데이터 전처리\n",
    "---"
   ]
  },
  {
   "cell_type": "code",
   "execution_count": 11,
   "id": "4df3534b-8948-4304-aa59-f34fbb83704a",
   "metadata": {},
   "outputs": [],
   "source": [
    "target_civil = target[\"CIVIL\"]\n",
    "target_ind = target[\"IND\"]\n",
    "\n",
    "data_dt = connect_year_month(data, year=\"YEAR\", month=\"MONTH\")"
   ]
  },
  {
   "cell_type": "code",
   "execution_count": 13,
   "id": "f762ca78-0a71-45cc-a886-7ff9488b2fdb",
   "metadata": {},
   "outputs": [],
   "source": [
    "data_final = data_dt.drop(columns=[\"CIV\", \"IND\"])"
   ]
  },
  {
   "cell_type": "code",
   "execution_count": 14,
   "id": "e4c3d1c0-e4ec-4fb3-910e-e11d25d8201a",
   "metadata": {},
   "outputs": [],
   "source": [
    "data_final.to_csv(\"data_final.csv\")"
   ]
  },
  {
   "cell_type": "code",
   "execution_count": null,
   "id": "a44037e4-acc7-4d99-bf32-185e5b09ed78",
   "metadata": {},
   "outputs": [],
   "source": []
  }
 ],
 "metadata": {
  "kernelspec": {
   "display_name": "Python 3 (ipykernel)",
   "language": "python",
   "name": "python3"
  },
  "language_info": {
   "codemirror_mode": {
    "name": "ipython",
    "version": 3
   },
   "file_extension": ".py",
   "mimetype": "text/x-python",
   "name": "python",
   "nbconvert_exporter": "python",
   "pygments_lexer": "ipython3",
   "version": "3.10.6"
  }
 },
 "nbformat": 4,
 "nbformat_minor": 5
}
