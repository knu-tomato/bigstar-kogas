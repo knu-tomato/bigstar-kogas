{
 "cells": [
  {
   "cell_type": "markdown",
   "id": "915c0961-9aab-45e1-bff6-450acc500cfd",
   "metadata": {},
   "source": [
    "# 미래 데이터 합치기\n",
    "---"
   ]
  },
  {
   "cell_type": "code",
   "execution_count": 1,
   "id": "181dfb19-8407-4df7-858b-f861113e5358",
   "metadata": {},
   "outputs": [],
   "source": [
    "import pandas as pd\n",
    "import matplotlib.pyplot as plt"
   ]
  },
  {
   "cell_type": "markdown",
   "id": "2f3d98f5-b26a-40d1-bec8-ec3a44a6da76",
   "metadata": {},
   "source": [
    "## [1] 데이터 로딩\n",
    "---"
   ]
  },
  {
   "cell_type": "code",
   "execution_count": 4,
   "id": "b2d25a55-a7a8-4667-98e0-5b451572fa09",
   "metadata": {},
   "outputs": [],
   "source": [
    "data_ind = pd.read_csv(\"./future-data/IND_SUM_pred.csv\", index_col=0)\n",
    "data_oil = pd.read_csv(\"./future-data/OIL_PRICE_pred.csv\", index_col=0)\n",
    "data_gas = pd.read_csv(\"./future-data/POWER_GAS_pred.csv\", index_col=0)\n",
    "data_qva = pd.read_csv(\"./future-data/QVA_pred.csv\", index_col=0)\n",
    "data_lt = pd.read_csv(\"./future-data/TCL_LT_pred.csv\", index_col=0)\n",
    "data_temp = pd.read_csv(\"./future-data/TEMP_EF_pred.csv\", index_col=0)"
   ]
  },
  {
   "cell_type": "code",
   "execution_count": null,
   "id": "97f56d32-501c-4846-bafc-661a206db2b7",
   "metadata": {},
   "outputs": [],
   "source": []
  }
 ],
 "metadata": {
  "kernelspec": {
   "display_name": "Python 3 (ipykernel)",
   "language": "python",
   "name": "python3"
  },
  "language_info": {
   "codemirror_mode": {
    "name": "ipython",
    "version": 3
   },
   "file_extension": ".py",
   "mimetype": "text/x-python",
   "name": "python",
   "nbconvert_exporter": "python",
   "pygments_lexer": "ipython3",
   "version": "3.10.6"
  }
 },
 "nbformat": 4,
 "nbformat_minor": 5
}
