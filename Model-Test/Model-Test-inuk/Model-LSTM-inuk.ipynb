{
 "cells": [
  {
   "cell_type": "markdown",
   "id": "c63c7bcb-1756-4e3c-8418-39a14bbb6d89",
   "metadata": {},
   "source": [
    "# LSTM 모델 테스트 - 산업용\n",
    "---"
   ]
  },
  {
   "cell_type": "code",
   "execution_count": 70,
   "id": "10c06eca-3a2e-4a38-b709-001cf8e6b730",
   "metadata": {},
   "outputs": [],
   "source": [
    "import pandas as pd\n",
    "import numpy as np\n",
    "import matplotlib.pyplot as plt\n",
    "import tensorflow as tf\n",
    "import keras\n",
    "\n",
    "from sklearn.preprocessing import MinMaxScaler\n",
    "from sklearn.model_selection import train_test_split\n",
    "from keras import Sequential\n",
    "from keras.layers import Dense, LSTM, Conv1D, Dropout\n",
    "from keras.losses import Huber\n",
    "from keras.optimizers import Adam"
   ]
  },
  {
   "cell_type": "markdown",
   "id": "d1d3e8eb-55d0-416a-8915-725b668aaf8a",
   "metadata": {},
   "source": [
    "## [1] 데이터 로딩\n",
    "---"
   ]
  },
  {
   "cell_type": "code",
   "execution_count": 71,
   "id": "72bbb73a-b5a1-428e-868e-c0ffe64aac1b",
   "metadata": {},
   "outputs": [],
   "source": [
    "data = pd.read_csv(\"data_tomato.csv\", index_col=0)\n",
    "target = pd.read_csv(\"target.csv\", index_col=0)"
   ]
  },
  {
   "cell_type": "code",
   "execution_count": 72,
   "id": "45139341-29a6-4430-9971-65377fde8c2c",
   "metadata": {},
   "outputs": [
    {
     "data": {
      "text/html": [
       "<div>\n",
       "<style scoped>\n",
       "    .dataframe tbody tr th:only-of-type {\n",
       "        vertical-align: middle;\n",
       "    }\n",
       "\n",
       "    .dataframe tbody tr th {\n",
       "        vertical-align: top;\n",
       "    }\n",
       "\n",
       "    .dataframe thead th {\n",
       "        text-align: right;\n",
       "    }\n",
       "</style>\n",
       "<table border=\"1\" class=\"dataframe\">\n",
       "  <thead>\n",
       "    <tr style=\"text-align: right;\">\n",
       "      <th></th>\n",
       "      <th>TCL_AT</th>\n",
       "      <th>TCL_LT</th>\n",
       "      <th>TCL_HT</th>\n",
       "      <th>TEMP_EF_CAP</th>\n",
       "      <th>TEMP_EF_DONGNAM</th>\n",
       "      <th>TEMP_EF_DAEGYUNG</th>\n",
       "      <th>TEMP_EF_CHOONG</th>\n",
       "      <th>TEMP_EF_HONAM</th>\n",
       "      <th>TEMP_EF_MEAN</th>\n",
       "      <th>POWER_WATER</th>\n",
       "      <th>...</th>\n",
       "      <th>POWER_LNG</th>\n",
       "      <th>ELEC_ALL</th>\n",
       "      <th>ELEC_FAMILY</th>\n",
       "      <th>ELEC_PUBLIC</th>\n",
       "      <th>ELEC_SERVICE</th>\n",
       "      <th>ELEC_CIVIL_SUM</th>\n",
       "      <th>ELEC_ARGRI_FISHING</th>\n",
       "      <th>ELEC_MINING</th>\n",
       "      <th>ELEC_MANUFACT</th>\n",
       "      <th>ELEC_INDSUM</th>\n",
       "    </tr>\n",
       "    <tr>\n",
       "      <th>DATE</th>\n",
       "      <th></th>\n",
       "      <th></th>\n",
       "      <th></th>\n",
       "      <th></th>\n",
       "      <th></th>\n",
       "      <th></th>\n",
       "      <th></th>\n",
       "      <th></th>\n",
       "      <th></th>\n",
       "      <th></th>\n",
       "      <th></th>\n",
       "      <th></th>\n",
       "      <th></th>\n",
       "      <th></th>\n",
       "      <th></th>\n",
       "      <th></th>\n",
       "      <th></th>\n",
       "      <th></th>\n",
       "      <th></th>\n",
       "      <th></th>\n",
       "      <th></th>\n",
       "    </tr>\n",
       "  </thead>\n",
       "  <tbody>\n",
       "    <tr>\n",
       "      <th>1996-01-01</th>\n",
       "      <td>0.004764</td>\n",
       "      <td>-0.189311</td>\n",
       "      <td>0.240528</td>\n",
       "      <td>0.84711</td>\n",
       "      <td>5.91778</td>\n",
       "      <td>6.73765</td>\n",
       "      <td>3.33479</td>\n",
       "      <td>1.88651</td>\n",
       "      <td>3.744768</td>\n",
       "      <td>363291</td>\n",
       "      <td>...</td>\n",
       "      <td>233891.0</td>\n",
       "      <td>16224867</td>\n",
       "      <td>2814138</td>\n",
       "      <td>557379</td>\n",
       "      <td>3616542</td>\n",
       "      <td>6988059</td>\n",
       "      <td>301811</td>\n",
       "      <td>80421</td>\n",
       "      <td>8854576</td>\n",
       "      <td>9236808</td>\n",
       "    </tr>\n",
       "    <tr>\n",
       "      <th>1996-02-01</th>\n",
       "      <td>0.007708</td>\n",
       "      <td>-0.226982</td>\n",
       "      <td>0.372691</td>\n",
       "      <td>0.81430</td>\n",
       "      <td>5.90875</td>\n",
       "      <td>6.73291</td>\n",
       "      <td>3.32638</td>\n",
       "      <td>1.87883</td>\n",
       "      <td>3.732234</td>\n",
       "      <td>356379</td>\n",
       "      <td>...</td>\n",
       "      <td>233891.0</td>\n",
       "      <td>15363840</td>\n",
       "      <td>2788312</td>\n",
       "      <td>558610</td>\n",
       "      <td>3551611</td>\n",
       "      <td>6898533</td>\n",
       "      <td>327617</td>\n",
       "      <td>70471</td>\n",
       "      <td>8067220</td>\n",
       "      <td>8465308</td>\n",
       "    </tr>\n",
       "    <tr>\n",
       "      <th>1996-03-01</th>\n",
       "      <td>0.137972</td>\n",
       "      <td>-0.045631</td>\n",
       "      <td>0.367739</td>\n",
       "      <td>0.60731</td>\n",
       "      <td>5.81529</td>\n",
       "      <td>6.67634</td>\n",
       "      <td>3.22000</td>\n",
       "      <td>1.78740</td>\n",
       "      <td>3.621268</td>\n",
       "      <td>362980</td>\n",
       "      <td>...</td>\n",
       "      <td>233891.0</td>\n",
       "      <td>16094268</td>\n",
       "      <td>2555048</td>\n",
       "      <td>528672</td>\n",
       "      <td>3333225</td>\n",
       "      <td>6416945</td>\n",
       "      <td>345359</td>\n",
       "      <td>81877</td>\n",
       "      <td>9250086</td>\n",
       "      <td>9677322</td>\n",
       "    </tr>\n",
       "    <tr>\n",
       "      <th>1996-04-01</th>\n",
       "      <td>0.261910</td>\n",
       "      <td>0.029456</td>\n",
       "      <td>0.582132</td>\n",
       "      <td>0.24132</td>\n",
       "      <td>5.71003</td>\n",
       "      <td>6.61264</td>\n",
       "      <td>3.07795</td>\n",
       "      <td>1.66054</td>\n",
       "      <td>3.460496</td>\n",
       "      <td>367415</td>\n",
       "      <td>...</td>\n",
       "      <td>233891.0</td>\n",
       "      <td>16266027</td>\n",
       "      <td>2629204</td>\n",
       "      <td>555354</td>\n",
       "      <td>3430624</td>\n",
       "      <td>6615182</td>\n",
       "      <td>292235</td>\n",
       "      <td>84596</td>\n",
       "      <td>9274014</td>\n",
       "      <td>9650845</td>\n",
       "    </tr>\n",
       "    <tr>\n",
       "      <th>1996-05-01</th>\n",
       "      <td>0.428759</td>\n",
       "      <td>0.242892</td>\n",
       "      <td>0.688458</td>\n",
       "      <td>-0.38328</td>\n",
       "      <td>5.67433</td>\n",
       "      <td>6.58956</td>\n",
       "      <td>3.02586</td>\n",
       "      <td>1.62083</td>\n",
       "      <td>3.305460</td>\n",
       "      <td>440662</td>\n",
       "      <td>...</td>\n",
       "      <td>233891.0</td>\n",
       "      <td>16028072</td>\n",
       "      <td>2525076</td>\n",
       "      <td>511468</td>\n",
       "      <td>3333483</td>\n",
       "      <td>6370027</td>\n",
       "      <td>302913</td>\n",
       "      <td>80963</td>\n",
       "      <td>9274169</td>\n",
       "      <td>9658045</td>\n",
       "    </tr>\n",
       "  </tbody>\n",
       "</table>\n",
       "<p>5 rows × 29 columns</p>\n",
       "</div>"
      ],
      "text/plain": [
       "              TCL_AT    TCL_LT    TCL_HT  TEMP_EF_CAP  TEMP_EF_DONGNAM  \\\n",
       "DATE                                                                     \n",
       "1996-01-01  0.004764 -0.189311  0.240528      0.84711          5.91778   \n",
       "1996-02-01  0.007708 -0.226982  0.372691      0.81430          5.90875   \n",
       "1996-03-01  0.137972 -0.045631  0.367739      0.60731          5.81529   \n",
       "1996-04-01  0.261910  0.029456  0.582132      0.24132          5.71003   \n",
       "1996-05-01  0.428759  0.242892  0.688458     -0.38328          5.67433   \n",
       "\n",
       "            TEMP_EF_DAEGYUNG  TEMP_EF_CHOONG  TEMP_EF_HONAM  TEMP_EF_MEAN  \\\n",
       "DATE                                                                        \n",
       "1996-01-01           6.73765         3.33479        1.88651      3.744768   \n",
       "1996-02-01           6.73291         3.32638        1.87883      3.732234   \n",
       "1996-03-01           6.67634         3.22000        1.78740      3.621268   \n",
       "1996-04-01           6.61264         3.07795        1.66054      3.460496   \n",
       "1996-05-01           6.58956         3.02586        1.62083      3.305460   \n",
       "\n",
       "            POWER_WATER  ...  POWER_LNG  ELEC_ALL  ELEC_FAMILY  ELEC_PUBLIC  \\\n",
       "DATE                     ...                                                  \n",
       "1996-01-01       363291  ...   233891.0  16224867      2814138       557379   \n",
       "1996-02-01       356379  ...   233891.0  15363840      2788312       558610   \n",
       "1996-03-01       362980  ...   233891.0  16094268      2555048       528672   \n",
       "1996-04-01       367415  ...   233891.0  16266027      2629204       555354   \n",
       "1996-05-01       440662  ...   233891.0  16028072      2525076       511468   \n",
       "\n",
       "            ELEC_SERVICE  ELEC_CIVIL_SUM  ELEC_ARGRI_FISHING  ELEC_MINING  \\\n",
       "DATE                                                                        \n",
       "1996-01-01       3616542         6988059              301811        80421   \n",
       "1996-02-01       3551611         6898533              327617        70471   \n",
       "1996-03-01       3333225         6416945              345359        81877   \n",
       "1996-04-01       3430624         6615182              292235        84596   \n",
       "1996-05-01       3333483         6370027              302913        80963   \n",
       "\n",
       "            ELEC_MANUFACT  ELEC_INDSUM  \n",
       "DATE                                    \n",
       "1996-01-01        8854576      9236808  \n",
       "1996-02-01        8067220      8465308  \n",
       "1996-03-01        9250086      9677322  \n",
       "1996-04-01        9274014      9650845  \n",
       "1996-05-01        9274169      9658045  \n",
       "\n",
       "[5 rows x 29 columns]"
      ]
     },
     "execution_count": 72,
     "metadata": {},
     "output_type": "execute_result"
    }
   ],
   "source": [
    "data.head()"
   ]
  },
  {
   "cell_type": "code",
   "execution_count": 73,
   "id": "8825c726-d3e9-4bce-a330-4322bce403eb",
   "metadata": {},
   "outputs": [
    {
     "data": {
      "text/html": [
       "<div>\n",
       "<style scoped>\n",
       "    .dataframe tbody tr th:only-of-type {\n",
       "        vertical-align: middle;\n",
       "    }\n",
       "\n",
       "    .dataframe tbody tr th {\n",
       "        vertical-align: top;\n",
       "    }\n",
       "\n",
       "    .dataframe thead th {\n",
       "        text-align: right;\n",
       "    }\n",
       "</style>\n",
       "<table border=\"1\" class=\"dataframe\">\n",
       "  <thead>\n",
       "    <tr style=\"text-align: right;\">\n",
       "      <th></th>\n",
       "      <th>CIVIL</th>\n",
       "      <th>IND</th>\n",
       "    </tr>\n",
       "    <tr>\n",
       "      <th>DATE</th>\n",
       "      <th></th>\n",
       "      <th></th>\n",
       "    </tr>\n",
       "  </thead>\n",
       "  <tbody>\n",
       "    <tr>\n",
       "      <th>1996-01-01</th>\n",
       "      <td>605519</td>\n",
       "      <td>83809</td>\n",
       "    </tr>\n",
       "    <tr>\n",
       "      <th>1996-02-01</th>\n",
       "      <td>566323</td>\n",
       "      <td>70427</td>\n",
       "    </tr>\n",
       "    <tr>\n",
       "      <th>1996-03-01</th>\n",
       "      <td>477514</td>\n",
       "      <td>62652</td>\n",
       "    </tr>\n",
       "    <tr>\n",
       "      <th>1996-04-01</th>\n",
       "      <td>337797</td>\n",
       "      <td>47050</td>\n",
       "    </tr>\n",
       "    <tr>\n",
       "      <th>1996-05-01</th>\n",
       "      <td>184522</td>\n",
       "      <td>30709</td>\n",
       "    </tr>\n",
       "  </tbody>\n",
       "</table>\n",
       "</div>"
      ],
      "text/plain": [
       "             CIVIL    IND\n",
       "DATE                     \n",
       "1996-01-01  605519  83809\n",
       "1996-02-01  566323  70427\n",
       "1996-03-01  477514  62652\n",
       "1996-04-01  337797  47050\n",
       "1996-05-01  184522  30709"
      ]
     },
     "execution_count": 73,
     "metadata": {},
     "output_type": "execute_result"
    }
   ],
   "source": [
    "target.head()"
   ]
  },
  {
   "cell_type": "markdown",
   "id": "71ce050e-6c4b-46e0-8892-a3757c1fbd01",
   "metadata": {},
   "source": [
    "## [2] 데이터 전처리\n",
    "---"
   ]
  },
  {
   "cell_type": "markdown",
   "id": "816a2f8e-9c90-4d4b-ac46-eab8d1c4fbb7",
   "metadata": {},
   "source": [
    "### [2-1] 데이터 정규화"
   ]
  },
  {
   "cell_type": "code",
   "execution_count": 74,
   "id": "9ae93f50-a6fe-4075-ac83-081c606c7090",
   "metadata": {},
   "outputs": [],
   "source": [
    "scaler = MinMaxScaler()\n",
    "scale_cols = list(data.columns)\n",
    "\n",
    "scaled = scaler.fit_transform(data)\n",
    "\n",
    "data_scaled = pd.DataFrame(scaled, columns=scale_cols)\n",
    "data_scaled.head()\n",
    "\n",
    "target_ind = scaler.fit_transform(pd.DataFrame(target[\"IND\"]))"
   ]
  },
  {
   "cell_type": "markdown",
   "id": "41d56604-9c1f-43fd-9150-f87dee31ebb1",
   "metadata": {},
   "source": [
    "### [2-2] 데이터 분할"
   ]
  },
  {
   "cell_type": "code",
   "execution_count": 75,
   "id": "683c8d4d-fd97-4bb8-b20c-e2ead134128b",
   "metadata": {},
   "outputs": [],
   "source": [
    "X_train, X_test, y_train, y_test = train_test_split(\n",
    "    data_scaled, target_ind, shuffle=False, test_size=0.2, random_state=42\n",
    ")"
   ]
  },
  {
   "cell_type": "code",
   "execution_count": 76,
   "id": "086cba47-dfa5-43ca-b84f-a96c4b1f0f5e",
   "metadata": {},
   "outputs": [
    {
     "name": "stdout",
     "output_type": "stream",
     "text": [
      "(240, 29) (240, 1)\n"
     ]
    }
   ],
   "source": [
    "print(X_train.shape, y_train.shape)"
   ]
  },
  {
   "cell_type": "code",
   "execution_count": 77,
   "id": "8a9edc67-b4b6-4c08-9b2f-434af05cd822",
   "metadata": {},
   "outputs": [
    {
     "name": "stdout",
     "output_type": "stream",
     "text": [
      "(60, 29) (60, 1)\n"
     ]
    }
   ],
   "source": [
    "print(X_test.shape, y_test.shape)"
   ]
  },
  {
   "cell_type": "markdown",
   "id": "a59e24d1-ceed-4940-a133-2a4858f1e99f",
   "metadata": {},
   "source": [
    "### [2-3] 시퀀스 데이터셋 구성"
   ]
  },
  {
   "cell_type": "code",
   "execution_count": 78,
   "id": "60693d5f-6b2b-4bb9-8739-d40214bbd7b9",
   "metadata": {},
   "outputs": [],
   "source": [
    "def windowed_dataset(X, y, window_size, batch_size, shuffle):\n",
    "    # X 값 window dataset 구성\n",
    "    X_ds = tf.data.Dataset.from_tensor_slices(X)\n",
    "    X_ds = X_ds.window(window_size, shift=1, stride=1, drop_remainder=True)\n",
    "    X_ds = X_ds.flat_map(lambda x: x.batch(window_size))\n",
    "    # y 값 추가\n",
    "    y_ds = tf.data.Dataset.from_tensor_slices(y[window_size:])\n",
    "    ds = tf.data.Dataset.zip((X_ds, y_ds))\n",
    "    if shuffle:\n",
    "        ds = ds.shuffle(80)\n",
    "    return ds.batch(batch_size).prefetch(1)"
   ]
  },
  {
   "cell_type": "code",
   "execution_count": 79,
   "id": "961f0f44-bb85-4641-97fe-9aa854a4a196",
   "metadata": {},
   "outputs": [],
   "source": [
    "WINDOW_SIZE = 4\n",
    "BATCH_SIZE = 32\n",
    "\n",
    "train_data = windowed_dataset(X_train, y_train, WINDOW_SIZE, BATCH_SIZE, True)\n",
    "test_data = windowed_dataset(X_test, y_test, WINDOW_SIZE, BATCH_SIZE, False)"
   ]
  },
  {
   "cell_type": "code",
   "execution_count": 80,
   "id": "4818774a-3895-4b22-96b0-b3c0b69d5be9",
   "metadata": {},
   "outputs": [
    {
     "name": "stdout",
     "output_type": "stream",
     "text": [
      "(32, 4, 29)\n"
     ]
    }
   ],
   "source": [
    "for data in train_data.take(1):\n",
    "    print(data[0].shape)"
   ]
  },
  {
   "cell_type": "markdown",
   "id": "0d464e48-c814-41da-8b0a-d128a6b2ee1d",
   "metadata": {},
   "source": [
    "## [3] 모델 생성\n",
    "---"
   ]
  },
  {
   "cell_type": "code",
   "execution_count": 90,
   "id": "41b14213-0def-4ddc-aa2f-94562f5b89af",
   "metadata": {},
   "outputs": [
    {
     "name": "stdout",
     "output_type": "stream",
     "text": [
      "Model: \"sequential_11\"\n",
      "_________________________________________________________________\n",
      " Layer (type)                Output Shape              Param #   \n",
      "=================================================================\n",
      " conv1d_11 (Conv1D)          (None, 2, 32)             2816      \n",
      "                                                                 \n",
      " lstm_19 (LSTM)              (None, 2, 64)             24832     \n",
      "                                                                 \n",
      " dropout_18 (Dropout)        (None, 2, 64)             0         \n",
      "                                                                 \n",
      " lstm_20 (LSTM)              (None, 64)                33024     \n",
      "                                                                 \n",
      " dropout_19 (Dropout)        (None, 64)                0         \n",
      "                                                                 \n",
      " dense_22 (Dense)            (None, 32)                2080      \n",
      "                                                                 \n",
      " dropout_20 (Dropout)        (None, 32)                0         \n",
      "                                                                 \n",
      " dense_23 (Dense)            (None, 1)                 33        \n",
      "                                                                 \n",
      "=================================================================\n",
      "Total params: 62,785\n",
      "Trainable params: 62,785\n",
      "Non-trainable params: 0\n",
      "_________________________________________________________________\n"
     ]
    }
   ],
   "source": [
    "model = Sequential([\n",
    "    Conv1D(filters=32, kernel_size=3, activation='relu', input_shape=[WINDOW_SIZE, 29]),\n",
    "    LSTM(64, return_sequences=True),\n",
    "    Dropout(0.25),\n",
    "    LSTM(64),\n",
    "    Dropout(0.25),\n",
    "    Dense(32, activation=\"relu\"),\n",
    "    Dropout(0.25),\n",
    "    Dense(1)\n",
    "])\n",
    "\n",
    "loss = Huber()\n",
    "optimizer = Adam(0.0005)\n",
    "\n",
    "model.compile(optimizer=optimizer, loss=loss, metrics=\"mse\")\n",
    "model.summary()"
   ]
  },
  {
   "cell_type": "code",
   "execution_count": 91,
   "id": "1b2b0825-02ed-426f-96e4-beec7996a95e",
   "metadata": {},
   "outputs": [
    {
     "name": "stdout",
     "output_type": "stream",
     "text": [
      "Epoch 1/50\n",
      "8/8 [==============================] - 2s 8ms/step - loss: 0.0716 - mse: 0.1433\n",
      "Epoch 2/50\n",
      "8/8 [==============================] - 0s 7ms/step - loss: 0.0356 - mse: 0.0713\n",
      "Epoch 3/50\n",
      "8/8 [==============================] - 0s 6ms/step - loss: 0.0154 - mse: 0.0308\n",
      "Epoch 4/50\n",
      "8/8 [==============================] - 0s 6ms/step - loss: 0.0174 - mse: 0.0348\n",
      "Epoch 5/50\n",
      "8/8 [==============================] - 0s 6ms/step - loss: 0.0160 - mse: 0.0321\n",
      "Epoch 6/50\n",
      "8/8 [==============================] - 0s 6ms/step - loss: 0.0140 - mse: 0.0280\n",
      "Epoch 7/50\n",
      "8/8 [==============================] - 0s 6ms/step - loss: 0.0127 - mse: 0.0253\n",
      "Epoch 8/50\n",
      "8/8 [==============================] - 0s 6ms/step - loss: 0.0102 - mse: 0.0204\n",
      "Epoch 9/50\n",
      "8/8 [==============================] - 0s 6ms/step - loss: 0.0088 - mse: 0.0177\n",
      "Epoch 10/50\n",
      "8/8 [==============================] - 0s 6ms/step - loss: 0.0085 - mse: 0.0169\n",
      "Epoch 11/50\n",
      "8/8 [==============================] - 0s 6ms/step - loss: 0.0081 - mse: 0.0162\n",
      "Epoch 12/50\n",
      "8/8 [==============================] - 0s 6ms/step - loss: 0.0069 - mse: 0.0139\n",
      "Epoch 13/50\n",
      "8/8 [==============================] - 0s 7ms/step - loss: 0.0073 - mse: 0.0147\n",
      "Epoch 14/50\n",
      "8/8 [==============================] - 0s 6ms/step - loss: 0.0057 - mse: 0.0113\n",
      "Epoch 15/50\n",
      "8/8 [==============================] - 0s 5ms/step - loss: 0.0067 - mse: 0.0133\n",
      "Epoch 16/50\n",
      "8/8 [==============================] - 0s 5ms/step - loss: 0.0066 - mse: 0.0133\n",
      "Epoch 17/50\n",
      "8/8 [==============================] - 0s 5ms/step - loss: 0.0072 - mse: 0.0143\n",
      "Epoch 18/50\n",
      "8/8 [==============================] - 0s 5ms/step - loss: 0.0060 - mse: 0.0120\n",
      "Epoch 19/50\n",
      "8/8 [==============================] - 0s 5ms/step - loss: 0.0055 - mse: 0.0109\n",
      "Epoch 20/50\n",
      "8/8 [==============================] - 0s 5ms/step - loss: 0.0079 - mse: 0.0158\n",
      "Epoch 21/50\n",
      "8/8 [==============================] - 0s 5ms/step - loss: 0.0056 - mse: 0.0113\n",
      "Epoch 22/50\n",
      "8/8 [==============================] - 0s 6ms/step - loss: 0.0055 - mse: 0.0110\n",
      "Epoch 23/50\n",
      "8/8 [==============================] - 0s 5ms/step - loss: 0.0060 - mse: 0.0119\n",
      "Epoch 24/50\n",
      "8/8 [==============================] - 0s 6ms/step - loss: 0.0052 - mse: 0.0104\n",
      "Epoch 25/50\n",
      "8/8 [==============================] - 0s 5ms/step - loss: 0.0053 - mse: 0.0107\n",
      "Epoch 26/50\n",
      "8/8 [==============================] - 0s 5ms/step - loss: 0.0050 - mse: 0.0100\n",
      "Epoch 27/50\n",
      "8/8 [==============================] - 0s 5ms/step - loss: 0.0066 - mse: 0.0133\n",
      "Epoch 28/50\n",
      "8/8 [==============================] - 0s 5ms/step - loss: 0.0061 - mse: 0.0122\n",
      "Epoch 29/50\n",
      "8/8 [==============================] - 0s 5ms/step - loss: 0.0050 - mse: 0.0099\n",
      "Epoch 30/50\n",
      "8/8 [==============================] - 0s 6ms/step - loss: 0.0050 - mse: 0.0101\n",
      "Epoch 31/50\n",
      "8/8 [==============================] - 0s 6ms/step - loss: 0.0046 - mse: 0.0093\n",
      "Epoch 32/50\n",
      "8/8 [==============================] - 0s 6ms/step - loss: 0.0044 - mse: 0.0087\n",
      "Epoch 33/50\n",
      "8/8 [==============================] - 0s 6ms/step - loss: 0.0047 - mse: 0.0094\n",
      "Epoch 34/50\n",
      "8/8 [==============================] - 0s 6ms/step - loss: 0.0045 - mse: 0.0090\n",
      "Epoch 35/50\n",
      "8/8 [==============================] - 0s 6ms/step - loss: 0.0053 - mse: 0.0107\n",
      "Epoch 36/50\n",
      "8/8 [==============================] - 0s 5ms/step - loss: 0.0053 - mse: 0.0106\n",
      "Epoch 37/50\n",
      "8/8 [==============================] - 0s 5ms/step - loss: 0.0067 - mse: 0.0134\n",
      "Epoch 38/50\n",
      "8/8 [==============================] - 0s 6ms/step - loss: 0.0041 - mse: 0.0083\n",
      "Epoch 39/50\n",
      "8/8 [==============================] - 0s 6ms/step - loss: 0.0050 - mse: 0.0099\n",
      "Epoch 40/50\n",
      "8/8 [==============================] - 0s 6ms/step - loss: 0.0051 - mse: 0.0102\n",
      "Epoch 41/50\n",
      "8/8 [==============================] - 0s 6ms/step - loss: 0.0051 - mse: 0.0103\n",
      "Epoch 42/50\n",
      "8/8 [==============================] - 0s 6ms/step - loss: 0.0039 - mse: 0.0077\n",
      "Epoch 43/50\n",
      "8/8 [==============================] - 0s 6ms/step - loss: 0.0037 - mse: 0.0075\n",
      "Epoch 44/50\n",
      "8/8 [==============================] - 0s 6ms/step - loss: 0.0040 - mse: 0.0080\n",
      "Epoch 45/50\n",
      "8/8 [==============================] - 0s 5ms/step - loss: 0.0044 - mse: 0.0089\n",
      "Epoch 46/50\n",
      "8/8 [==============================] - 0s 5ms/step - loss: 0.0035 - mse: 0.0070\n",
      "Epoch 47/50\n",
      "8/8 [==============================] - 0s 5ms/step - loss: 0.0050 - mse: 0.0100\n",
      "Epoch 48/50\n",
      "8/8 [==============================] - 0s 6ms/step - loss: 0.0053 - mse: 0.0105\n",
      "Epoch 49/50\n",
      "8/8 [==============================] - 0s 5ms/step - loss: 0.0062 - mse: 0.0124\n",
      "Epoch 50/50\n",
      "8/8 [==============================] - 0s 5ms/step - loss: 0.0055 - mse: 0.0111\n"
     ]
    },
    {
     "data": {
      "text/plain": [
       "<keras.callbacks.History at 0x7f8b18618cd0>"
      ]
     },
     "execution_count": 91,
     "metadata": {},
     "output_type": "execute_result"
    }
   ],
   "source": [
    "model.fit(\n",
    "    train_data,\n",
    "    epochs=50\n",
    ")"
   ]
  },
  {
   "cell_type": "code",
   "execution_count": 92,
   "id": "f3ab3d62",
   "metadata": {},
   "outputs": [
    {
     "name": "stdout",
     "output_type": "stream",
     "text": [
      "2/2 [==============================] - 0s 19ms/step\n"
     ]
    }
   ],
   "source": [
    "pred = model.predict(test_data)"
   ]
  },
  {
   "cell_type": "code",
   "execution_count": 93,
   "id": "9645ce4e",
   "metadata": {},
   "outputs": [
    {
     "data": {
      "text/plain": [
       "(56, 1)"
      ]
     },
     "execution_count": 93,
     "metadata": {},
     "output_type": "execute_result"
    }
   ],
   "source": [
    "pred.shape"
   ]
  },
  {
   "cell_type": "code",
   "execution_count": 95,
   "id": "a48233d4",
   "metadata": {},
   "outputs": [
    {
     "data": {
      "image/png": "[encoded data removed]",
      "text/plain": [
       "<Figure size 800x500 with 1 Axes>"
      ]
     },
     "metadata": {},
     "output_type": "display_data"
    }
   ],
   "source": [
    "plt.figure(figsize=(8, 5))\n",
    "plt.plot(np.asarray(y_test)[4:], label='actual')\n",
    "plt.plot(pred, label='prediction')\n",
    "plt.legend()\n",
    "plt.show()"
   ]
  },
  {
   "cell_type": "code",
   "execution_count": null,
   "id": "d72b4627",
   "metadata": {},
   "outputs": [],
   "source": []
  },
  {
   "cell_type": "code",
   "execution_count": null,
   "id": "18078251-adc6-4bcb-b95f-12f3949d6d13",
   "metadata": {},
   "outputs": [],
   "source": []
  },
  {
   "cell_type": "code",
   "execution_count": null,
   "id": "e4d3484b-cada-44a4-8629-f1d96692be2b",
   "metadata": {},
   "outputs": [],
   "source": []
  }
 ],
 "metadata": {
  "kernelspec": {
   "display_name": "Python 3 (ipykernel)",
   "language": "python",
   "name": "python3"
  },
  "language_info": {
   "codemirror_mode": {
    "name": "ipython",
    "version": 3
   },
   "file_extension": ".py",
   "mimetype": "text/x-python",
   "name": "python",
   "nbconvert_exporter": "python",
   "pygments_lexer": "ipython3",
   "version": "3.10.6"
  },
  "vscode": {
   "interpreter": {
    "hash": "d4d1e4263499bec80672ea0156c357c1ee493ec2b1c70f0acce89fc37c4a6abe"
   }
  }
 },
 "nbformat": 4,
 "nbformat_minor": 5
}
