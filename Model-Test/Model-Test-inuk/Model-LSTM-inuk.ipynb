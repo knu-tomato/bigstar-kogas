{
 "cells": [
  {
   "cell_type": "markdown",
   "id": "c63c7bcb-1756-4e3c-8418-39a14bbb6d89",
   "metadata": {},
   "source": [
    "# LSTM 모델 테스트 - 산업용\n",
    "---"
   ]
  },
  {
   "cell_type": "code",
   "execution_count": 85,
   "id": "10c06eca-3a2e-4a38-b709-001cf8e6b730",
   "metadata": {},
   "outputs": [],
   "source": [
    "import keras\n",
    "import matplotlib.pyplot as plt\n",
    "import numpy as np\n",
    "import pandas as pd\n",
    "import tensorflow as tf\n",
    "\n",
    "from keras import Sequential\n",
    "from keras.layers import LSTM, Conv1D, Dense, Dropout, GRU, TimeDistributed\n",
    "from keras.losses import Huber\n",
    "from keras.optimizers import Adam\n",
    "\n",
    "from sklearn.model_selection import train_test_split\n",
    "from sklearn.preprocessing import MinMaxScaler, StandardScaler"
   ]
  },
  {
   "cell_type": "markdown",
   "id": "d1d3e8eb-55d0-416a-8915-725b668aaf8a",
   "metadata": {},
   "source": [
    "## [1] 데이터 로딩\n",
    "---"
   ]
  },
  {
   "cell_type": "code",
   "execution_count": 86,
   "id": "72bbb73a-b5a1-428e-868e-c0ffe64aac1b",
   "metadata": {},
   "outputs": [],
   "source": [
    "data = pd.read_csv(\"./data/data_use.csv\", index_col=0)\n",
    "data_pred = pd.read_csv(\"./data/data_future.csv\", index_col=0)\n",
    "target = pd.read_csv(\"./data/target.csv\", index_col=0)"
   ]
  },
  {
   "cell_type": "code",
   "execution_count": 87,
   "id": "45139341-29a6-4430-9971-65377fde8c2c",
   "metadata": {},
   "outputs": [
    {
     "data": {
      "text/html": [
       "<div>\n",
       "<style scoped>\n",
       "    .dataframe tbody tr th:only-of-type {\n",
       "        vertical-align: middle;\n",
       "    }\n",
       "\n",
       "    .dataframe tbody tr th {\n",
       "        vertical-align: top;\n",
       "    }\n",
       "\n",
       "    .dataframe thead th {\n",
       "        text-align: right;\n",
       "    }\n",
       "</style>\n",
       "<table border=\"1\" class=\"dataframe\">\n",
       "  <thead>\n",
       "    <tr style=\"text-align: right;\">\n",
       "      <th></th>\n",
       "      <th>POWER_GAS</th>\n",
       "      <th>ELEC_IND_SUM</th>\n",
       "      <th>OIL_PRICE</th>\n",
       "      <th>QVA</th>\n",
       "      <th>TCL_LT</th>\n",
       "      <th>TEMP_EF</th>\n",
       "      <th>ELEC_SERVICE</th>\n",
       "    </tr>\n",
       "    <tr>\n",
       "      <th>DATE</th>\n",
       "      <th></th>\n",
       "      <th></th>\n",
       "      <th></th>\n",
       "      <th></th>\n",
       "      <th></th>\n",
       "      <th></th>\n",
       "      <th></th>\n",
       "    </tr>\n",
       "  </thead>\n",
       "  <tbody>\n",
       "    <tr>\n",
       "      <th>1996-01-01</th>\n",
       "      <td>8408979</td>\n",
       "      <td>9236808</td>\n",
       "      <td>27.86</td>\n",
       "      <td>36550.300000</td>\n",
       "      <td>-0.189311</td>\n",
       "      <td>3.744768</td>\n",
       "      <td>3616542</td>\n",
       "    </tr>\n",
       "    <tr>\n",
       "      <th>1996-02-01</th>\n",
       "      <td>7593086</td>\n",
       "      <td>8465308</td>\n",
       "      <td>29.04</td>\n",
       "      <td>36751.000000</td>\n",
       "      <td>-0.226982</td>\n",
       "      <td>3.732234</td>\n",
       "      <td>3551611</td>\n",
       "    </tr>\n",
       "    <tr>\n",
       "      <th>1996-03-01</th>\n",
       "      <td>8306941</td>\n",
       "      <td>9677322</td>\n",
       "      <td>27.99</td>\n",
       "      <td>36951.700000</td>\n",
       "      <td>-0.045631</td>\n",
       "      <td>3.621268</td>\n",
       "      <td>3333225</td>\n",
       "    </tr>\n",
       "    <tr>\n",
       "      <th>1996-04-01</th>\n",
       "      <td>8299351</td>\n",
       "      <td>9650845</td>\n",
       "      <td>28.74</td>\n",
       "      <td>37152.400000</td>\n",
       "      <td>0.029456</td>\n",
       "      <td>3.460496</td>\n",
       "      <td>3430624</td>\n",
       "    </tr>\n",
       "    <tr>\n",
       "      <th>1996-05-01</th>\n",
       "      <td>8156027</td>\n",
       "      <td>9658045</td>\n",
       "      <td>29.18</td>\n",
       "      <td>37365.733333</td>\n",
       "      <td>0.242892</td>\n",
       "      <td>3.305460</td>\n",
       "      <td>3333483</td>\n",
       "    </tr>\n",
       "  </tbody>\n",
       "</table>\n",
       "</div>"
      ],
      "text/plain": [
       "            POWER_GAS  ELEC_IND_SUM  OIL_PRICE           QVA    TCL_LT  \\\n",
       "DATE                                                                     \n",
       "1996-01-01    8408979       9236808      27.86  36550.300000 -0.189311   \n",
       "1996-02-01    7593086       8465308      29.04  36751.000000 -0.226982   \n",
       "1996-03-01    8306941       9677322      27.99  36951.700000 -0.045631   \n",
       "1996-04-01    8299351       9650845      28.74  37152.400000  0.029456   \n",
       "1996-05-01    8156027       9658045      29.18  37365.733333  0.242892   \n",
       "\n",
       "             TEMP_EF  ELEC_SERVICE  \n",
       "DATE                                \n",
       "1996-01-01  3.744768       3616542  \n",
       "1996-02-01  3.732234       3551611  \n",
       "1996-03-01  3.621268       3333225  \n",
       "1996-04-01  3.460496       3430624  \n",
       "1996-05-01  3.305460       3333483  "
      ]
     },
     "execution_count": 87,
     "metadata": {},
     "output_type": "execute_result"
    }
   ],
   "source": [
    "data.head()"
   ]
  },
  {
   "cell_type": "code",
   "execution_count": 88,
   "id": "93e278d3-5d31-4f7b-a478-1c80d2306930",
   "metadata": {},
   "outputs": [
    {
     "data": {
      "text/html": [
       "<div>\n",
       "<style scoped>\n",
       "    .dataframe tbody tr th:only-of-type {\n",
       "        vertical-align: middle;\n",
       "    }\n",
       "\n",
       "    .dataframe tbody tr th {\n",
       "        vertical-align: top;\n",
       "    }\n",
       "\n",
       "    .dataframe thead th {\n",
       "        text-align: right;\n",
       "    }\n",
       "</style>\n",
       "<table border=\"1\" class=\"dataframe\">\n",
       "  <thead>\n",
       "    <tr style=\"text-align: right;\">\n",
       "      <th></th>\n",
       "      <th>POWER_GAS</th>\n",
       "      <th>ELEC_IND_SUM</th>\n",
       "      <th>OIL_PRICE</th>\n",
       "      <th>QVA</th>\n",
       "      <th>TCL_LT</th>\n",
       "      <th>TEMP_EF</th>\n",
       "      <th>ELEC_SERVICE</th>\n",
       "    </tr>\n",
       "    <tr>\n",
       "      <th>DATE</th>\n",
       "      <th></th>\n",
       "      <th></th>\n",
       "      <th></th>\n",
       "      <th></th>\n",
       "      <th></th>\n",
       "      <th></th>\n",
       "      <th></th>\n",
       "    </tr>\n",
       "  </thead>\n",
       "  <tbody>\n",
       "    <tr>\n",
       "      <th>2021-01-01</th>\n",
       "      <td>21004815</td>\n",
       "      <td>24009895</td>\n",
       "      <td>106.270957</td>\n",
       "      <td>122715.511387</td>\n",
       "      <td>-0.819359</td>\n",
       "      <td>3.720112</td>\n",
       "      <td>1.546123e+07</td>\n",
       "    </tr>\n",
       "    <tr>\n",
       "      <th>2021-02-01</th>\n",
       "      <td>19006411</td>\n",
       "      <td>22411095</td>\n",
       "      <td>106.452033</td>\n",
       "      <td>123791.588066</td>\n",
       "      <td>-0.488770</td>\n",
       "      <td>3.663880</td>\n",
       "      <td>1.485668e+07</td>\n",
       "    </tr>\n",
       "    <tr>\n",
       "      <th>2021-03-01</th>\n",
       "      <td>17216940</td>\n",
       "      <td>23047185</td>\n",
       "      <td>106.615613</td>\n",
       "      <td>123126.447539</td>\n",
       "      <td>0.108879</td>\n",
       "      <td>3.557796</td>\n",
       "      <td>1.291000e+07</td>\n",
       "    </tr>\n",
       "    <tr>\n",
       "      <th>2021-04-01</th>\n",
       "      <td>15290843</td>\n",
       "      <td>22640767</td>\n",
       "      <td>106.796638</td>\n",
       "      <td>123534.791822</td>\n",
       "      <td>0.929050</td>\n",
       "      <td>3.418933</td>\n",
       "      <td>1.228525e+07</td>\n",
       "    </tr>\n",
       "    <tr>\n",
       "      <th>2021-05-01</th>\n",
       "      <td>15763108</td>\n",
       "      <td>22310541</td>\n",
       "      <td>106.971887</td>\n",
       "      <td>123756.051487</td>\n",
       "      <td>1.691170</td>\n",
       "      <td>3.297840</td>\n",
       "      <td>1.092951e+07</td>\n",
       "    </tr>\n",
       "  </tbody>\n",
       "</table>\n",
       "</div>"
      ],
      "text/plain": [
       "            POWER_GAS  ELEC_IND_SUM   OIL_PRICE            QVA    TCL_LT  \\\n",
       "DATE                                                                       \n",
       "2021-01-01   21004815      24009895  106.270957  122715.511387 -0.819359   \n",
       "2021-02-01   19006411      22411095  106.452033  123791.588066 -0.488770   \n",
       "2021-03-01   17216940      23047185  106.615613  123126.447539  0.108879   \n",
       "2021-04-01   15290843      22640767  106.796638  123534.791822  0.929050   \n",
       "2021-05-01   15763108      22310541  106.971887  123756.051487  1.691170   \n",
       "\n",
       "             TEMP_EF  ELEC_SERVICE  \n",
       "DATE                                \n",
       "2021-01-01  3.720112  1.546123e+07  \n",
       "2021-02-01  3.663880  1.485668e+07  \n",
       "2021-03-01  3.557796  1.291000e+07  \n",
       "2021-04-01  3.418933  1.228525e+07  \n",
       "2021-05-01  3.297840  1.092951e+07  "
      ]
     },
     "execution_count": 88,
     "metadata": {},
     "output_type": "execute_result"
    }
   ],
   "source": [
    "data_pred.head()"
   ]
  },
  {
   "cell_type": "code",
   "execution_count": 89,
   "id": "56b4623c-5386-40ed-8c97-59cb4870e29f",
   "metadata": {},
   "outputs": [
    {
     "data": {
      "text/html": [
       "<div>\n",
       "<style scoped>\n",
       "    .dataframe tbody tr th:only-of-type {\n",
       "        vertical-align: middle;\n",
       "    }\n",
       "\n",
       "    .dataframe tbody tr th {\n",
       "        vertical-align: top;\n",
       "    }\n",
       "\n",
       "    .dataframe thead th {\n",
       "        text-align: right;\n",
       "    }\n",
       "</style>\n",
       "<table border=\"1\" class=\"dataframe\">\n",
       "  <thead>\n",
       "    <tr style=\"text-align: right;\">\n",
       "      <th></th>\n",
       "      <th>CIVIL</th>\n",
       "      <th>IND</th>\n",
       "    </tr>\n",
       "    <tr>\n",
       "      <th>DATE</th>\n",
       "      <th></th>\n",
       "      <th></th>\n",
       "    </tr>\n",
       "  </thead>\n",
       "  <tbody>\n",
       "    <tr>\n",
       "      <th>1996-01-01</th>\n",
       "      <td>605519</td>\n",
       "      <td>83809</td>\n",
       "    </tr>\n",
       "    <tr>\n",
       "      <th>1996-02-01</th>\n",
       "      <td>566323</td>\n",
       "      <td>70427</td>\n",
       "    </tr>\n",
       "    <tr>\n",
       "      <th>1996-03-01</th>\n",
       "      <td>477514</td>\n",
       "      <td>62652</td>\n",
       "    </tr>\n",
       "    <tr>\n",
       "      <th>1996-04-01</th>\n",
       "      <td>337797</td>\n",
       "      <td>47050</td>\n",
       "    </tr>\n",
       "    <tr>\n",
       "      <th>1996-05-01</th>\n",
       "      <td>184522</td>\n",
       "      <td>30709</td>\n",
       "    </tr>\n",
       "  </tbody>\n",
       "</table>\n",
       "</div>"
      ],
      "text/plain": [
       "             CIVIL    IND\n",
       "DATE                     \n",
       "1996-01-01  605519  83809\n",
       "1996-02-01  566323  70427\n",
       "1996-03-01  477514  62652\n",
       "1996-04-01  337797  47050\n",
       "1996-05-01  184522  30709"
      ]
     },
     "execution_count": 89,
     "metadata": {},
     "output_type": "execute_result"
    }
   ],
   "source": [
    "target.head()"
   ]
  },
  {
   "cell_type": "markdown",
   "id": "71ce050e-6c4b-46e0-8892-a3757c1fbd01",
   "metadata": {},
   "source": [
    "## [2] 데이터 전처리\n",
    "---"
   ]
  },
  {
   "cell_type": "markdown",
   "id": "b9c16624-5f59-46b4-ba66-cfc15099cf29",
   "metadata": {},
   "source": [
    "### [2-1] 데이터 정규화"
   ]
  },
  {
   "cell_type": "code",
   "execution_count": 90,
   "id": "5969e1d6-b376-47ce-93bd-74831af8a49d",
   "metadata": {},
   "outputs": [],
   "source": [
    "# 스케일러 생성\n",
    "scaler = StandardScaler()\n",
    "\n",
    "# minmax 스케일 적용\n",
    "scaler.fit(data)\n",
    "data_scaled_raw = scaler.transform(data)"
   ]
  },
  {
   "cell_type": "code",
   "execution_count": 91,
   "id": "0ac2dc6f-4123-47ff-96fd-f8d9e14c5ea4",
   "metadata": {},
   "outputs": [
    {
     "data": {
      "text/html": [
       "<div>\n",
       "<style scoped>\n",
       "    .dataframe tbody tr th:only-of-type {\n",
       "        vertical-align: middle;\n",
       "    }\n",
       "\n",
       "    .dataframe tbody tr th {\n",
       "        vertical-align: top;\n",
       "    }\n",
       "\n",
       "    .dataframe thead th {\n",
       "        text-align: right;\n",
       "    }\n",
       "</style>\n",
       "<table border=\"1\" class=\"dataframe\">\n",
       "  <thead>\n",
       "    <tr style=\"text-align: right;\">\n",
       "      <th></th>\n",
       "      <th>POWER_GAS</th>\n",
       "      <th>ELEC_IND_SUM</th>\n",
       "      <th>OIL_PRICE</th>\n",
       "      <th>QVA</th>\n",
       "      <th>TCL_LT</th>\n",
       "      <th>TEMP_EF</th>\n",
       "      <th>ELEC_SERVICE</th>\n",
       "    </tr>\n",
       "  </thead>\n",
       "  <tbody>\n",
       "    <tr>\n",
       "      <th>0</th>\n",
       "      <td>0.134089</td>\n",
       "      <td>0.049688</td>\n",
       "      <td>0.000000</td>\n",
       "      <td>0.009127</td>\n",
       "      <td>0.211867</td>\n",
       "      <td>0.897574</td>\n",
       "      <td>0.024189</td>\n",
       "    </tr>\n",
       "    <tr>\n",
       "      <th>1</th>\n",
       "      <td>0.088435</td>\n",
       "      <td>0.002813</td>\n",
       "      <td>0.006917</td>\n",
       "      <td>0.011378</td>\n",
       "      <td>0.202764</td>\n",
       "      <td>0.879284</td>\n",
       "      <td>0.018796</td>\n",
       "    </tr>\n",
       "    <tr>\n",
       "      <th>2</th>\n",
       "      <td>0.128379</td>\n",
       "      <td>0.076453</td>\n",
       "      <td>0.000762</td>\n",
       "      <td>0.013628</td>\n",
       "      <td>0.246586</td>\n",
       "      <td>0.717359</td>\n",
       "      <td>0.000659</td>\n",
       "    </tr>\n",
       "    <tr>\n",
       "      <th>3</th>\n",
       "      <td>0.127954</td>\n",
       "      <td>0.074844</td>\n",
       "      <td>0.005159</td>\n",
       "      <td>0.015879</td>\n",
       "      <td>0.264731</td>\n",
       "      <td>0.482756</td>\n",
       "      <td>0.008748</td>\n",
       "    </tr>\n",
       "    <tr>\n",
       "      <th>4</th>\n",
       "      <td>0.119935</td>\n",
       "      <td>0.075281</td>\n",
       "      <td>0.007738</td>\n",
       "      <td>0.018271</td>\n",
       "      <td>0.316306</td>\n",
       "      <td>0.256523</td>\n",
       "      <td>0.000681</td>\n",
       "    </tr>\n",
       "  </tbody>\n",
       "</table>\n",
       "</div>"
      ],
      "text/plain": [
       "   POWER_GAS  ELEC_IND_SUM  OIL_PRICE       QVA    TCL_LT   TEMP_EF  \\\n",
       "0   0.134089      0.049688   0.000000  0.009127  0.211867  0.897574   \n",
       "1   0.088435      0.002813   0.006917  0.011378  0.202764  0.879284   \n",
       "2   0.128379      0.076453   0.000762  0.013628  0.246586  0.717359   \n",
       "3   0.127954      0.074844   0.005159  0.015879  0.264731  0.482756   \n",
       "4   0.119935      0.075281   0.007738  0.018271  0.316306  0.256523   \n",
       "\n",
       "   ELEC_SERVICE  \n",
       "0      0.024189  \n",
       "1      0.018796  \n",
       "2      0.000659  \n",
       "3      0.008748  \n",
       "4      0.000681  "
      ]
     },
     "execution_count": 91,
     "metadata": {},
     "output_type": "execute_result"
    }
   ],
   "source": [
    "# 스케일한 데이터 컬럼명 생성\n",
    "data_cols = list(data.columns)\n",
    "\n",
    "# 스케일한 데이터 형식 바꾸고 컬럼명 변경\n",
    "data_scaled = pd.DataFrame(data_scaled_raw, columns=data_cols)\n",
    "data_scaled.head()"
   ]
  },
  {
   "cell_type": "code",
   "execution_count": 92,
   "id": "992a4cf1-ebd2-4d52-85d0-8ec491d6a7e8",
   "metadata": {},
   "outputs": [],
   "source": [
    "# target data 분할\n",
    "target_ind = pd.DataFrame(target[\"IND\"])\n",
    "target_civil = pd.DataFrame(target[\"CIVIL\"])\n",
    "\n",
    "# 따로 정규화 작업\n",
    "target_scaler = MinMaxScaler()\n",
    "target_scaler.fit(target_ind)\n",
    "\n",
    "target_scaled_ind = pd.DataFrame(target_scaler.transform(target_ind))"
   ]
  },
  {
   "cell_type": "markdown",
   "id": "41d56604-9c1f-43fd-9150-f87dee31ebb1",
   "metadata": {},
   "source": [
    "### [2-2] 데이터 분할"
   ]
  },
  {
   "cell_type": "code",
   "execution_count": 93,
   "id": "910ff1fb-1c2f-4748-ac06-c4e8dc4203c1",
   "metadata": {},
   "outputs": [],
   "source": [
    "# input data 분할\n",
    "ind_cols = [\"TEMP_EF\", \"POWER_GAS\", \"ELEC_IND_SUM\", \"OIL_PRICE\", \"QVA\"]\n",
    "civil_cols = [\"TCL_LT\", \"TEMP_EF\", \"ELEC_SERVICE\" ]\n",
    "\n",
    "data_ind = data_scaled.loc[:, ind_cols]\n",
    "data_ind[\"TEMP_EF\"] = data_ind[\"TEMP_EF\"] * 1.5\n",
    "# data_ind[\"POWER_GAS\"] = data_ind[\"POWER_GAS\"] * 1.5\n",
    "# data_ind[\"OIL_PRICE\"] = data_ind[\"OIL_PRICE\"] * 1\n",
    "\n",
    "data_civil = data_scaled.loc[:, civil_cols]"
   ]
  },
  {
   "cell_type": "code",
   "execution_count": 94,
   "id": "1be0a127-a634-426e-a9d1-805b730c5a10",
   "metadata": {},
   "outputs": [],
   "source": [
    "# train test 분할\n",
    "# ind set\n",
    "X_train_ind, X_test_ind, y_train_ind, y_test_ind = train_test_split(\n",
    "    data_ind, target_scaled_ind, shuffle=False, test_size=0.3, random_state=42\n",
    ")\n",
    "\n",
    "# civil set\n",
    "X_train_civil, X_test_civil, y_train_civil, y_test_civil = train_test_split(\n",
    "    data_civil, target_civil, shuffle=False, test_size=0.3, random_state=42\n",
    ")"
   ]
  },
  {
   "cell_type": "code",
   "execution_count": 95,
   "id": "186cb7fe-795a-449f-ad08-e83f6d920ec5",
   "metadata": {},
   "outputs": [
    {
     "data": {
      "text/plain": [
       "((210, 5), (90, 5))"
      ]
     },
     "execution_count": 95,
     "metadata": {},
     "output_type": "execute_result"
    }
   ],
   "source": [
    "# shape 출력\n",
    "X_train_ind.shape, X_test_ind.shape"
   ]
  },
  {
   "cell_type": "code",
   "execution_count": 96,
   "id": "8b912a73-37f4-4bde-96ae-1327cb839569",
   "metadata": {},
   "outputs": [
    {
     "data": {
      "text/plain": [
       "((210, 1), (90, 1))"
      ]
     },
     "execution_count": 96,
     "metadata": {},
     "output_type": "execute_result"
    }
   ],
   "source": [
    "y_train_ind.shape, y_test_ind.shape"
   ]
  },
  {
   "cell_type": "markdown",
   "id": "a59e24d1-ceed-4940-a133-2a4858f1e99f",
   "metadata": {},
   "source": [
    "### [2-3] 시퀀스 데이터셋 구성"
   ]
  },
  {
   "cell_type": "code",
   "execution_count": 97,
   "id": "60693d5f-6b2b-4bb9-8739-d40214bbd7b9",
   "metadata": {},
   "outputs": [],
   "source": [
    "def windowed_dataset(X, y, window_size, batch_size, shuffle):\n",
    "    # X 값 window dataset 구성\n",
    "    X_ds = tf.data.Dataset.from_tensor_slices(X)\n",
    "    X_ds = X_ds.window(window_size, shift=1, stride=1, drop_remainder=True)\n",
    "    X_ds = X_ds.flat_map(lambda x: x.batch(window_size))\n",
    "    # y 값 추가\n",
    "    y_ds = tf.data.Dataset.from_tensor_slices(y[window_size:])\n",
    "    ds = tf.data.Dataset.zip((X_ds, y_ds))\n",
    "    if shuffle:\n",
    "        ds = ds.shuffle(80)\n",
    "        \n",
    "    return ds.batch(batch_size).prefetch(1)"
   ]
  },
  {
   "cell_type": "code",
   "execution_count": 98,
   "id": "961f0f44-bb85-4641-97fe-9aa854a4a196",
   "metadata": {},
   "outputs": [],
   "source": [
    "# 모델에 사용될 변수 저장\n",
    "WINDOW_SIZE = 6\n",
    "BATCH_SIZE = 32\n",
    "INPUT_SHAPE_IND = (WINDOW_SIZE, X_train_ind.shape[1])\n",
    "INPUT_SHAPE_CIVIL = (WINDOW_SIZE, X_train_civil.shape[1])\n",
    "\n",
    "# ind dataset 생성\n",
    "train_ds_ind = windowed_dataset(X_train_ind, y_train_ind, WINDOW_SIZE, BATCH_SIZE, True)\n",
    "test_ds_ind = windowed_dataset(X_test_ind, y_test_ind, WINDOW_SIZE, BATCH_SIZE, False)\n",
    "\n",
    "# civil dataset 생성\n",
    "train_ds_civil = windowed_dataset(X_train_civil, y_train_civil, WINDOW_SIZE, BATCH_SIZE, True)\n",
    "test_ds_civil = windowed_dataset(X_test_civil, y_test_civil, WINDOW_SIZE, BATCH_SIZE, False)"
   ]
  },
  {
   "cell_type": "markdown",
   "id": "0d464e48-c814-41da-8b0a-d128a6b2ee1d",
   "metadata": {},
   "source": [
    "## [3] 모델 생성\n",
    "---"
   ]
  },
  {
   "cell_type": "markdown",
   "id": "af7bad6a-9892-4a94-b137-52d40506e2f0",
   "metadata": {},
   "source": [
    "### [3-1] IND 모델"
   ]
  },
  {
   "cell_type": "code",
   "execution_count": 99,
   "id": "07191bbd-61aa-4a04-ac05-e3ba7a3862e0",
   "metadata": {},
   "outputs": [],
   "source": [
    "# 랜덤 시드 고정\n",
    "tf.random.set_seed(42)"
   ]
  },
  {
   "cell_type": "code",
   "execution_count": 100,
   "id": "41b14213-0def-4ddc-aa2f-94562f5b89af",
   "metadata": {},
   "outputs": [],
   "source": [
    "# LSTM 모델 생성\n",
    "def LSTM_model(filters, units, input_shape):\n",
    "    model = Sequential(\n",
    "        [\n",
    "            Conv1D(\n",
    "                filters=filters, kernel_size=3, activation=\"relu\", input_shape=input_shape\n",
    "            ),\n",
    "            GRU(units, return_sequences=True),\n",
    "            GRU(units*2, return_sequences=True),\n",
    "            GRU(units),\n",
    "            Dense(1),\n",
    "        ]\n",
    "    )\n",
    "\n",
    "    # loss: sequence에서 좋은 성능을 보여주는 Huber 사용\n",
    "    loss = Huber()\n",
    "    # optimizer: Adam 사용\n",
    "    optimizer = Adam(0.0005)\n",
    "\n",
    "    model.compile(optimizer=optimizer, loss=loss, metrics=\"mse\")\n",
    "    \n",
    "    return model"
   ]
  },
  {
   "cell_type": "code",
   "execution_count": 101,
   "id": "caf09962-25d4-4777-abd9-aa412e90b271",
   "metadata": {},
   "outputs": [
    {
     "data": {
      "text/plain": [
       "<keras.callbacks.History at 0x7f0ff5069240>"
      ]
     },
     "execution_count": 101,
     "metadata": {},
     "output_type": "execute_result"
    }
   ],
   "source": [
    "model_ind = LSTM_model(32, 64, INPUT_SHAPE_IND)\n",
    "model_ind.fit(train_ds_ind, epochs=100, verbose=False)"
   ]
  },
  {
   "cell_type": "code",
   "execution_count": 102,
   "id": "9645ce4e",
   "metadata": {},
   "outputs": [
    {
     "name": "stdout",
     "output_type": "stream",
     "text": [
      "3/3 [==============================] - 0s 9ms/step\n"
     ]
    }
   ],
   "source": [
    "pred = model_ind.predict(test_ds_ind)\n",
    "\n",
    "# pred = ind_scaler.inverse_transform(pred)"
   ]
  },
  {
   "cell_type": "code",
   "execution_count": 103,
   "id": "a48233d4",
   "metadata": {},
   "outputs": [
    {
     "data": {
      "image/png": "[encoded data removed]",
      "text/plain": [
       "<Figure size 800x500 with 1 Axes>"
      ]
     },
     "metadata": {},
     "output_type": "display_data"
    }
   ],
   "source": [
    "plt.figure(figsize=(8, 5))\n",
    "plt.plot(np.asarray(y_test_ind)[WINDOW_SIZE:], label=\"actual\")\n",
    "plt.plot(pred, label=\"prediction\")\n",
    "plt.legend()\n",
    "plt.show()"
   ]
  },
  {
   "cell_type": "markdown",
   "id": "a7398a33-ea64-43ed-b75a-c30facec0e82",
   "metadata": {},
   "source": [
    "## [4] 예측 모델\n",
    "---"
   ]
  },
  {
   "cell_type": "code",
   "execution_count": 104,
   "id": "085d6201-dad5-483f-997d-436f8ea8bc86",
   "metadata": {},
   "outputs": [],
   "source": [
    "# 예측 데이터 불러오기\n",
    "data_pred_ind = data_pred.loc[:, ind_cols]\n",
    "data_pred_front = data.loc[:, ind_cols].iloc[294:,:]\n",
    "\n",
    "data_pred_ind = pd.concat([data_pred_front, data_pred_ind], axis=0)"
   ]
  },
  {
   "cell_type": "code",
   "execution_count": 105,
   "id": "1b6794f9-2651-4d07-9a91-6151748a8348",
   "metadata": {},
   "outputs": [],
   "source": [
    "def pred_dataset(X, window_size, batch_size):\n",
    "    # X 값 window dataset 구성\n",
    "    X_ds = tf.data.Dataset.from_tensor_slices(X)\n",
    "    X_ds = X_ds.window(window_size, shift=1, stride=1, drop_remainder=True)\n",
    "    X_ds = X_ds.flat_map(lambda x: x.batch(window_size))\n",
    "\n",
    "    return X_ds.batch(batch_size).prefetch(1)"
   ]
  },
  {
   "cell_type": "code",
   "execution_count": 106,
   "id": "c9439c4c-d3df-447e-b9f9-6382fa3c0efa",
   "metadata": {},
   "outputs": [
    {
     "name": "stdout",
     "output_type": "stream",
     "text": [
      "6/6 [==============================] - 1s 6ms/step\n"
     ]
    }
   ],
   "source": [
    "# 예측 데이터셋\n",
    "pred_ds = pred_dataset(data_pred_ind, WINDOW_SIZE, BATCH_SIZE)\n",
    "\n",
    "pred = model_ind.predict(pred_ds)\n",
    "\n",
    "pred = list(target_scaler.inverse_transform(pred))"
   ]
  },
  {
   "cell_type": "code",
   "execution_count": 111,
   "id": "a4ae5c4f-febd-4b17-9906-9a3c68b6237e",
   "metadata": {},
   "outputs": [
    {
     "data": {
      "text/plain": [
       "[array([4439092.], dtype=float32),\n",
       " array([4537031.], dtype=float32),\n",
       " array([4533323.], dtype=float32),\n",
       " array([4286603.5], dtype=float32),\n",
       " array([4200491.5], dtype=float32),\n",
       " array([4231050.5], dtype=float32),\n",
       " array([4339597.5], dtype=float32),\n",
       " array([4491761.], dtype=float32),\n",
       " array([4506493.5], dtype=float32),\n",
       " array([4370734.], dtype=float32),\n",
       " array([4314285.5], dtype=float32),\n",
       " array([4346570.5], dtype=float32),\n",
       " array([4467626.5], dtype=float32),\n",
       " array([4572653.], dtype=float32),\n",
       " array([4555938.5], dtype=float32),\n",
       " array([4587745.5], dtype=float32),\n",
       " array([4534627.], dtype=float32),\n",
       " array([4562235.5], dtype=float32),\n",
       " array([4529341.5], dtype=float32),\n",
       " array([4548418.], dtype=float32),\n",
       " array([4527765.5], dtype=float32),\n",
       " array([4370734.], dtype=float32),\n",
       " array([4314285.5], dtype=float32),\n",
       " array([4346570.5], dtype=float32),\n",
       " array([4455417.], dtype=float32),\n",
       " array([4487720.], dtype=float32),\n",
       " array([4385443.5], dtype=float32),\n",
       " array([4498595.5], dtype=float32),\n",
       " array([4481378.5], dtype=float32),\n",
       " array([4534376.5], dtype=float32),\n",
       " array([4529341.5], dtype=float32),\n",
       " array([4540139.5], dtype=float32),\n",
       " array([4527765.5], dtype=float32),\n",
       " array([4385443.5], dtype=float32),\n",
       " array([4315011.5], dtype=float32),\n",
       " array([4369935.], dtype=float32),\n",
       " array([4457516.5], dtype=float32),\n",
       " array([4493566.], dtype=float32),\n",
       " array([4385443.5], dtype=float32),\n",
       " array([4415584.5], dtype=float32),\n",
       " array([4415461.], dtype=float32),\n",
       " array([4503187.], dtype=float32),\n",
       " array([4516259.], dtype=float32),\n",
       " array([4540139.5], dtype=float32),\n",
       " array([4527765.5], dtype=float32),\n",
       " array([4385443.5], dtype=float32),\n",
       " array([4308537.], dtype=float32),\n",
       " array([4346570.5], dtype=float32),\n",
       " array([4451659.5], dtype=float32),\n",
       " array([4483279.5], dtype=float32),\n",
       " array([4385443.5], dtype=float32),\n",
       " array([4415584.5], dtype=float32),\n",
       " array([4415461.], dtype=float32),\n",
       " array([4414515.5], dtype=float32),\n",
       " array([4432146.], dtype=float32),\n",
       " array([4508995.5], dtype=float32),\n",
       " array([4499496.], dtype=float32),\n",
       " array([4304042.], dtype=float32),\n",
       " array([4167533.5], dtype=float32),\n",
       " array([4244924.], dtype=float32),\n",
       " array([4392558.5], dtype=float32),\n",
       " array([4457614.], dtype=float32),\n",
       " array([4374376.], dtype=float32),\n",
       " array([4315011.5], dtype=float32),\n",
       " array([4369935.], dtype=float32),\n",
       " array([4379905.5], dtype=float32),\n",
       " array([4410075.], dtype=float32),\n",
       " array([4508995.5], dtype=float32),\n",
       " array([4520711.], dtype=float32),\n",
       " array([4326542.5], dtype=float32),\n",
       " array([4167533.5], dtype=float32),\n",
       " array([4244924.], dtype=float32),\n",
       " array([4392558.5], dtype=float32),\n",
       " array([4485825.5], dtype=float32),\n",
       " array([4405920.], dtype=float32),\n",
       " array([4344652.], dtype=float32),\n",
       " array([4361199.5], dtype=float32),\n",
       " array([4366247.], dtype=float32),\n",
       " array([4497140.], dtype=float32),\n",
       " array([4590746.5], dtype=float32),\n",
       " array([4551311.], dtype=float32),\n",
       " array([4413695.], dtype=float32),\n",
       " array([4230672.5], dtype=float32),\n",
       " array([4359546.5], dtype=float32),\n",
       " array([4513992.], dtype=float32),\n",
       " array([4501280.], dtype=float32),\n",
       " array([4402853.5], dtype=float32),\n",
       " array([4315011.5], dtype=float32),\n",
       " array([4369935.], dtype=float32),\n",
       " array([4379905.5], dtype=float32),\n",
       " array([4500203.], dtype=float32),\n",
       " array([4590746.5], dtype=float32),\n",
       " array([4550182.], dtype=float32),\n",
       " array([4413695.], dtype=float32),\n",
       " array([4314285.5], dtype=float32),\n",
       " array([4439092.], dtype=float32),\n",
       " array([4541960.5], dtype=float32),\n",
       " array([4612649.5], dtype=float32),\n",
       " array([4487695.], dtype=float32),\n",
       " array([4285431.], dtype=float32),\n",
       " array([4204030.5], dtype=float32),\n",
       " array([4277384.], dtype=float32),\n",
       " array([4347645.], dtype=float32),\n",
       " array([4494587.5], dtype=float32),\n",
       " array([4506493.5], dtype=float32),\n",
       " array([4370734.], dtype=float32),\n",
       " array([4314285.5], dtype=float32),\n",
       " array([4439092.], dtype=float32),\n",
       " array([4543508.5], dtype=float32),\n",
       " array([4617403.5], dtype=float32),\n",
       " array([4579246.], dtype=float32),\n",
       " array([4419103.], dtype=float32),\n",
       " array([4429592.], dtype=float32),\n",
       " array([4407402.], dtype=float32),\n",
       " array([4410075.], dtype=float32),\n",
       " array([4508995.5], dtype=float32),\n",
       " array([4501096.], dtype=float32),\n",
       " array([4361801.5], dtype=float32),\n",
       " array([4314285.5], dtype=float32),\n",
       " array([4346570.5], dtype=float32),\n",
       " array([4455417.], dtype=float32),\n",
       " array([4487720.], dtype=float32),\n",
       " array([4385443.5], dtype=float32),\n",
       " array([4498595.5], dtype=float32),\n",
       " array([4481378.5], dtype=float32),\n",
       " array([4448801.5], dtype=float32),\n",
       " array([4445922.5], dtype=float32),\n",
       " array([4494019.5], dtype=float32),\n",
       " array([4501096.], dtype=float32),\n",
       " array([4385443.5], dtype=float32),\n",
       " array([4314285.5], dtype=float32),\n",
       " array([4346570.5], dtype=float32),\n",
       " array([4452558.], dtype=float32),\n",
       " array([4487720.], dtype=float32),\n",
       " array([4385443.5], dtype=float32),\n",
       " array([4498595.5], dtype=float32),\n",
       " array([4481378.5], dtype=float32),\n",
       " array([4534376.5], dtype=float32),\n",
       " array([4529341.5], dtype=float32),\n",
       " array([4540139.5], dtype=float32),\n",
       " array([4529341.5], dtype=float32),\n",
       " array([4385443.5], dtype=float32),\n",
       " array([4314285.5], dtype=float32),\n",
       " array([4346570.5], dtype=float32),\n",
       " array([4455417.], dtype=float32),\n",
       " array([4485573.5], dtype=float32),\n",
       " array([4385443.5], dtype=float32),\n",
       " array([4424203.5], dtype=float32),\n",
       " array([4408250.5], dtype=float32),\n",
       " array([4403098.], dtype=float32),\n",
       " array([4423660.5], dtype=float32),\n",
       " array([4494019.5], dtype=float32),\n",
       " array([4499496.], dtype=float32),\n",
       " array([4385443.5], dtype=float32),\n",
       " array([4308537.], dtype=float32),\n",
       " array([4346570.5], dtype=float32),\n",
       " array([4451659.5], dtype=float32),\n",
       " array([4485137.5], dtype=float32),\n",
       " array([4385443.5], dtype=float32),\n",
       " array([4320662.], dtype=float32),\n",
       " array([4369935.], dtype=float32),\n",
       " array([4386913.], dtype=float32),\n",
       " array([4505406.5], dtype=float32),\n",
       " array([4590746.5], dtype=float32),\n",
       " array([4550182.], dtype=float32),\n",
       " array([4413695.], dtype=float32),\n",
       " array([4314285.5], dtype=float32),\n",
       " array([4439092.], dtype=float32),\n",
       " array([4564172.], dtype=float32),\n",
       " array([4527139.5], dtype=float32),\n",
       " array([4402853.5], dtype=float32),\n",
       " array([4315011.5], dtype=float32),\n",
       " array([4369935.], dtype=float32),\n",
       " array([4366247.], dtype=float32),\n",
       " array([4497140.], dtype=float32),\n",
       " array([4590746.5], dtype=float32),\n",
       " array([4551311.], dtype=float32),\n",
       " array([4413695.], dtype=float32),\n",
       " array([4314285.5], dtype=float32),\n",
       " array([4439092.], dtype=float32),\n",
       " array([4541960.5], dtype=float32)]"
      ]
     },
     "execution_count": 111,
     "metadata": {},
     "output_type": "execute_result"
    }
   ],
   "source": [
    "pred"
   ]
  },
  {
   "cell_type": "code",
   "execution_count": 110,
   "id": "97655fa8-31da-496f-b5fe-753222808254",
   "metadata": {},
   "outputs": [
    {
     "data": {
      "text/html": [
       "<div>\n",
       "<style scoped>\n",
       "    .dataframe tbody tr th:only-of-type {\n",
       "        vertical-align: middle;\n",
       "    }\n",
       "\n",
       "    .dataframe tbody tr th {\n",
       "        vertical-align: top;\n",
       "    }\n",
       "\n",
       "    .dataframe thead th {\n",
       "        text-align: right;\n",
       "    }\n",
       "</style>\n",
       "<table border=\"1\" class=\"dataframe\">\n",
       "  <thead>\n",
       "    <tr style=\"text-align: right;\">\n",
       "      <th></th>\n",
       "      <th>IND</th>\n",
       "    </tr>\n",
       "    <tr>\n",
       "      <th>DATE</th>\n",
       "      <th></th>\n",
       "    </tr>\n",
       "  </thead>\n",
       "  <tbody>\n",
       "    <tr>\n",
       "      <th>1996-01-01</th>\n",
       "      <td>83809</td>\n",
       "    </tr>\n",
       "    <tr>\n",
       "      <th>1996-02-01</th>\n",
       "      <td>70427</td>\n",
       "    </tr>\n",
       "    <tr>\n",
       "      <th>1996-03-01</th>\n",
       "      <td>62652</td>\n",
       "    </tr>\n",
       "    <tr>\n",
       "      <th>1996-04-01</th>\n",
       "      <td>47050</td>\n",
       "    </tr>\n",
       "    <tr>\n",
       "      <th>1996-05-01</th>\n",
       "      <td>30709</td>\n",
       "    </tr>\n",
       "    <tr>\n",
       "      <th>...</th>\n",
       "      <td>...</td>\n",
       "    </tr>\n",
       "    <tr>\n",
       "      <th>2020-08-01</th>\n",
       "      <td>457970</td>\n",
       "    </tr>\n",
       "    <tr>\n",
       "      <th>2020-09-01</th>\n",
       "      <td>525619</td>\n",
       "    </tr>\n",
       "    <tr>\n",
       "      <th>2020-10-01</th>\n",
       "      <td>600890</td>\n",
       "    </tr>\n",
       "    <tr>\n",
       "      <th>2020-11-01</th>\n",
       "      <td>665901</td>\n",
       "    </tr>\n",
       "    <tr>\n",
       "      <th>2020-12-01</th>\n",
       "      <td>811928</td>\n",
       "    </tr>\n",
       "  </tbody>\n",
       "</table>\n",
       "<p>300 rows × 1 columns</p>\n",
       "</div>"
      ],
      "text/plain": [
       "               IND\n",
       "DATE              \n",
       "1996-01-01   83809\n",
       "1996-02-01   70427\n",
       "1996-03-01   62652\n",
       "1996-04-01   47050\n",
       "1996-05-01   30709\n",
       "...            ...\n",
       "2020-08-01  457970\n",
       "2020-09-01  525619\n",
       "2020-10-01  600890\n",
       "2020-11-01  665901\n",
       "2020-12-01  811928\n",
       "\n",
       "[300 rows x 1 columns]"
      ]
     },
     "execution_count": 110,
     "metadata": {},
     "output_type": "execute_result"
    }
   ],
   "source": [
    "target_ind"
   ]
  },
  {
   "cell_type": "code",
   "execution_count": null,
   "id": "704802db-33e8-48a0-8ca8-f220c80af891",
   "metadata": {},
   "outputs": [],
   "source": []
  }
 ],
 "metadata": {
  "kernelspec": {
   "display_name": "Python 3 (ipykernel)",
   "language": "python",
   "name": "python3"
  },
  "language_info": {
   "codemirror_mode": {
    "name": "ipython",
    "version": 3
   },
   "file_extension": ".py",
   "mimetype": "text/x-python",
   "name": "python",
   "nbconvert_exporter": "python",
   "pygments_lexer": "ipython3",
   "version": "3.10.6"
  },
  "vscode": {
   "interpreter": {
    "hash": "d4d1e4263499bec80672ea0156c357c1ee493ec2b1c70f0acce89fc37c4a6abe"
   }
  }
 },
 "nbformat": 4,
 "nbformat_minor": 5
}
