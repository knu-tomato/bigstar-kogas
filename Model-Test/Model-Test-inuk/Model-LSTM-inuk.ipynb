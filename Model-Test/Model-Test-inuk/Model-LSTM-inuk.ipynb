{
 "cells": [
  {
   "cell_type": "markdown",
   "id": "c63c7bcb-1756-4e3c-8418-39a14bbb6d89",
   "metadata": {},
   "source": [
    "# LSTM 모델 테스트 - 산업용\n",
    "---"
   ]
  },
  {
   "cell_type": "code",
   "execution_count": 1,
   "id": "10c06eca-3a2e-4a38-b709-001cf8e6b730",
   "metadata": {},
   "outputs": [
    {
     "name": "stderr",
     "output_type": "stream",
     "text": [
      "2022-10-18 16:13:26.014554: I tensorflow/core/platform/cpu_feature_guard.cc:193] This TensorFlow binary is optimized with oneAPI Deep Neural Network Library (oneDNN) to use the following CPU instructions in performance-critical operations:  SSE4.1 SSE4.2 AVX AVX2 AVX512F AVX512_VNNI FMA\n",
      "To enable them in other operations, rebuild TensorFlow with the appropriate compiler flags.\n",
      "2022-10-18 16:13:26.217554: I tensorflow/core/util/util.cc:169] oneDNN custom operations are on. You may see slightly different numerical results due to floating-point round-off errors from different computation orders. To turn them off, set the environment variable `TF_ENABLE_ONEDNN_OPTS=0`.\n"
     ]
    }
   ],
   "source": [
    "import keras\n",
    "import matplotlib.pyplot as plt\n",
    "import numpy as np\n",
    "import pandas as pd\n",
    "import tensorflow as tf\n",
    "from keras import Sequential\n",
    "from keras.layers import LSTM, Conv1D, Dense, Dropout\n",
    "from keras.losses import Huber\n",
    "from keras.optimizers import Adam\n",
    "from sklearn.model_selection import train_test_split\n",
    "from sklearn.preprocessing import MinMaxScaler"
   ]
  },
  {
   "cell_type": "markdown",
   "id": "d1d3e8eb-55d0-416a-8915-725b668aaf8a",
   "metadata": {},
   "source": [
    "## [1] 데이터 로딩\n",
    "---"
   ]
  },
  {
   "cell_type": "code",
   "execution_count": 2,
   "id": "72bbb73a-b5a1-428e-868e-c0ffe64aac1b",
   "metadata": {},
   "outputs": [],
   "source": [
    "data_tomato = pd.read_csv(\"data_tomato.csv\", index_col=0)\n",
    "data_qva = pd.read_csv(\"data_qva_inter.csv\", index_col=0)\n",
    "data_rv = pd.read_csv(\"data_rv.csv\", index_col=0)\n",
    "target = pd.read_csv(\"target.csv\", index_col=0)"
   ]
  },
  {
   "cell_type": "code",
   "execution_count": 3,
   "id": "45139341-29a6-4430-9971-65377fde8c2c",
   "metadata": {},
   "outputs": [
    {
     "data": {
      "text/html": [
       "<div>\n",
       "<style scoped>\n",
       "    .dataframe tbody tr th:only-of-type {\n",
       "        vertical-align: middle;\n",
       "    }\n",
       "\n",
       "    .dataframe tbody tr th {\n",
       "        vertical-align: top;\n",
       "    }\n",
       "\n",
       "    .dataframe thead th {\n",
       "        text-align: right;\n",
       "    }\n",
       "</style>\n",
       "<table border=\"1\" class=\"dataframe\">\n",
       "  <thead>\n",
       "    <tr style=\"text-align: right;\">\n",
       "      <th></th>\n",
       "      <th>TCL_AT</th>\n",
       "      <th>TCL_LT</th>\n",
       "      <th>TCL_HT</th>\n",
       "      <th>TEMP_EF_CAP</th>\n",
       "      <th>TEMP_EF_DONGNAM</th>\n",
       "      <th>TEMP_EF_DAEGYUNG</th>\n",
       "      <th>TEMP_EF_CHOONG</th>\n",
       "      <th>TEMP_EF_HONAM</th>\n",
       "      <th>TEMP_EF_MEAN</th>\n",
       "      <th>POWER_WATER</th>\n",
       "      <th>...</th>\n",
       "      <th>POWER_LNG</th>\n",
       "      <th>ELEC_ALL</th>\n",
       "      <th>ELEC_FAMILY</th>\n",
       "      <th>ELEC_PUBLIC</th>\n",
       "      <th>ELEC_SERVICE</th>\n",
       "      <th>ELEC_CIVIL_SUM</th>\n",
       "      <th>ELEC_ARGRI_FISHING</th>\n",
       "      <th>ELEC_MINING</th>\n",
       "      <th>ELEC_MANUFACT</th>\n",
       "      <th>ELEC_INDSUM</th>\n",
       "    </tr>\n",
       "    <tr>\n",
       "      <th>DATE</th>\n",
       "      <th></th>\n",
       "      <th></th>\n",
       "      <th></th>\n",
       "      <th></th>\n",
       "      <th></th>\n",
       "      <th></th>\n",
       "      <th></th>\n",
       "      <th></th>\n",
       "      <th></th>\n",
       "      <th></th>\n",
       "      <th></th>\n",
       "      <th></th>\n",
       "      <th></th>\n",
       "      <th></th>\n",
       "      <th></th>\n",
       "      <th></th>\n",
       "      <th></th>\n",
       "      <th></th>\n",
       "      <th></th>\n",
       "      <th></th>\n",
       "      <th></th>\n",
       "    </tr>\n",
       "  </thead>\n",
       "  <tbody>\n",
       "    <tr>\n",
       "      <th>1996-01-01</th>\n",
       "      <td>0.004764</td>\n",
       "      <td>-0.189311</td>\n",
       "      <td>0.240528</td>\n",
       "      <td>0.84711</td>\n",
       "      <td>5.91778</td>\n",
       "      <td>6.73765</td>\n",
       "      <td>3.33479</td>\n",
       "      <td>1.88651</td>\n",
       "      <td>3.744768</td>\n",
       "      <td>363291</td>\n",
       "      <td>...</td>\n",
       "      <td>233891.0</td>\n",
       "      <td>16224867</td>\n",
       "      <td>2814138</td>\n",
       "      <td>557379</td>\n",
       "      <td>3616542</td>\n",
       "      <td>6988059</td>\n",
       "      <td>301811</td>\n",
       "      <td>80421</td>\n",
       "      <td>8854576</td>\n",
       "      <td>9236808</td>\n",
       "    </tr>\n",
       "    <tr>\n",
       "      <th>1996-02-01</th>\n",
       "      <td>0.007708</td>\n",
       "      <td>-0.226982</td>\n",
       "      <td>0.372691</td>\n",
       "      <td>0.81430</td>\n",
       "      <td>5.90875</td>\n",
       "      <td>6.73291</td>\n",
       "      <td>3.32638</td>\n",
       "      <td>1.87883</td>\n",
       "      <td>3.732234</td>\n",
       "      <td>356379</td>\n",
       "      <td>...</td>\n",
       "      <td>233891.0</td>\n",
       "      <td>15363840</td>\n",
       "      <td>2788312</td>\n",
       "      <td>558610</td>\n",
       "      <td>3551611</td>\n",
       "      <td>6898533</td>\n",
       "      <td>327617</td>\n",
       "      <td>70471</td>\n",
       "      <td>8067220</td>\n",
       "      <td>8465308</td>\n",
       "    </tr>\n",
       "    <tr>\n",
       "      <th>1996-03-01</th>\n",
       "      <td>0.137972</td>\n",
       "      <td>-0.045631</td>\n",
       "      <td>0.367739</td>\n",
       "      <td>0.60731</td>\n",
       "      <td>5.81529</td>\n",
       "      <td>6.67634</td>\n",
       "      <td>3.22000</td>\n",
       "      <td>1.78740</td>\n",
       "      <td>3.621268</td>\n",
       "      <td>362980</td>\n",
       "      <td>...</td>\n",
       "      <td>233891.0</td>\n",
       "      <td>16094268</td>\n",
       "      <td>2555048</td>\n",
       "      <td>528672</td>\n",
       "      <td>3333225</td>\n",
       "      <td>6416945</td>\n",
       "      <td>345359</td>\n",
       "      <td>81877</td>\n",
       "      <td>9250086</td>\n",
       "      <td>9677322</td>\n",
       "    </tr>\n",
       "    <tr>\n",
       "      <th>1996-04-01</th>\n",
       "      <td>0.261910</td>\n",
       "      <td>0.029456</td>\n",
       "      <td>0.582132</td>\n",
       "      <td>0.24132</td>\n",
       "      <td>5.71003</td>\n",
       "      <td>6.61264</td>\n",
       "      <td>3.07795</td>\n",
       "      <td>1.66054</td>\n",
       "      <td>3.460496</td>\n",
       "      <td>367415</td>\n",
       "      <td>...</td>\n",
       "      <td>233891.0</td>\n",
       "      <td>16266027</td>\n",
       "      <td>2629204</td>\n",
       "      <td>555354</td>\n",
       "      <td>3430624</td>\n",
       "      <td>6615182</td>\n",
       "      <td>292235</td>\n",
       "      <td>84596</td>\n",
       "      <td>9274014</td>\n",
       "      <td>9650845</td>\n",
       "    </tr>\n",
       "    <tr>\n",
       "      <th>1996-05-01</th>\n",
       "      <td>0.428759</td>\n",
       "      <td>0.242892</td>\n",
       "      <td>0.688458</td>\n",
       "      <td>-0.38328</td>\n",
       "      <td>5.67433</td>\n",
       "      <td>6.58956</td>\n",
       "      <td>3.02586</td>\n",
       "      <td>1.62083</td>\n",
       "      <td>3.305460</td>\n",
       "      <td>440662</td>\n",
       "      <td>...</td>\n",
       "      <td>233891.0</td>\n",
       "      <td>16028072</td>\n",
       "      <td>2525076</td>\n",
       "      <td>511468</td>\n",
       "      <td>3333483</td>\n",
       "      <td>6370027</td>\n",
       "      <td>302913</td>\n",
       "      <td>80963</td>\n",
       "      <td>9274169</td>\n",
       "      <td>9658045</td>\n",
       "    </tr>\n",
       "  </tbody>\n",
       "</table>\n",
       "<p>5 rows × 29 columns</p>\n",
       "</div>"
      ],
      "text/plain": [
       "              TCL_AT    TCL_LT    TCL_HT  TEMP_EF_CAP  TEMP_EF_DONGNAM  \\\n",
       "DATE                                                                     \n",
       "1996-01-01  0.004764 -0.189311  0.240528      0.84711          5.91778   \n",
       "1996-02-01  0.007708 -0.226982  0.372691      0.81430          5.90875   \n",
       "1996-03-01  0.137972 -0.045631  0.367739      0.60731          5.81529   \n",
       "1996-04-01  0.261910  0.029456  0.582132      0.24132          5.71003   \n",
       "1996-05-01  0.428759  0.242892  0.688458     -0.38328          5.67433   \n",
       "\n",
       "            TEMP_EF_DAEGYUNG  TEMP_EF_CHOONG  TEMP_EF_HONAM  TEMP_EF_MEAN  \\\n",
       "DATE                                                                        \n",
       "1996-01-01           6.73765         3.33479        1.88651      3.744768   \n",
       "1996-02-01           6.73291         3.32638        1.87883      3.732234   \n",
       "1996-03-01           6.67634         3.22000        1.78740      3.621268   \n",
       "1996-04-01           6.61264         3.07795        1.66054      3.460496   \n",
       "1996-05-01           6.58956         3.02586        1.62083      3.305460   \n",
       "\n",
       "            POWER_WATER  ...  POWER_LNG  ELEC_ALL  ELEC_FAMILY  ELEC_PUBLIC  \\\n",
       "DATE                     ...                                                  \n",
       "1996-01-01       363291  ...   233891.0  16224867      2814138       557379   \n",
       "1996-02-01       356379  ...   233891.0  15363840      2788312       558610   \n",
       "1996-03-01       362980  ...   233891.0  16094268      2555048       528672   \n",
       "1996-04-01       367415  ...   233891.0  16266027      2629204       555354   \n",
       "1996-05-01       440662  ...   233891.0  16028072      2525076       511468   \n",
       "\n",
       "            ELEC_SERVICE  ELEC_CIVIL_SUM  ELEC_ARGRI_FISHING  ELEC_MINING  \\\n",
       "DATE                                                                        \n",
       "1996-01-01       3616542         6988059              301811        80421   \n",
       "1996-02-01       3551611         6898533              327617        70471   \n",
       "1996-03-01       3333225         6416945              345359        81877   \n",
       "1996-04-01       3430624         6615182              292235        84596   \n",
       "1996-05-01       3333483         6370027              302913        80963   \n",
       "\n",
       "            ELEC_MANUFACT  ELEC_INDSUM  \n",
       "DATE                                    \n",
       "1996-01-01        8854576      9236808  \n",
       "1996-02-01        8067220      8465308  \n",
       "1996-03-01        9250086      9677322  \n",
       "1996-04-01        9274014      9650845  \n",
       "1996-05-01        9274169      9658045  \n",
       "\n",
       "[5 rows x 29 columns]"
      ]
     },
     "execution_count": 3,
     "metadata": {},
     "output_type": "execute_result"
    }
   ],
   "source": [
    "data_tomato.head()"
   ]
  },
  {
   "cell_type": "code",
   "execution_count": 4,
   "id": "93e278d3-5d31-4f7b-a478-1c80d2306930",
   "metadata": {},
   "outputs": [
    {
     "data": {
      "text/html": [
       "<div>\n",
       "<style scoped>\n",
       "    .dataframe tbody tr th:only-of-type {\n",
       "        vertical-align: middle;\n",
       "    }\n",
       "\n",
       "    .dataframe tbody tr th {\n",
       "        vertical-align: top;\n",
       "    }\n",
       "\n",
       "    .dataframe thead th {\n",
       "        text-align: right;\n",
       "    }\n",
       "</style>\n",
       "<table border=\"1\" class=\"dataframe\">\n",
       "  <thead>\n",
       "    <tr style=\"text-align: right;\">\n",
       "      <th></th>\n",
       "      <th>QVA</th>\n",
       "    </tr>\n",
       "    <tr>\n",
       "      <th>DATE</th>\n",
       "      <th></th>\n",
       "    </tr>\n",
       "  </thead>\n",
       "  <tbody>\n",
       "    <tr>\n",
       "      <th>1996-01-01</th>\n",
       "      <td>36550.300000</td>\n",
       "    </tr>\n",
       "    <tr>\n",
       "      <th>1996-02-01</th>\n",
       "      <td>36751.000000</td>\n",
       "    </tr>\n",
       "    <tr>\n",
       "      <th>1996-03-01</th>\n",
       "      <td>36951.700000</td>\n",
       "    </tr>\n",
       "    <tr>\n",
       "      <th>1996-04-01</th>\n",
       "      <td>37152.400000</td>\n",
       "    </tr>\n",
       "    <tr>\n",
       "      <th>1996-05-01</th>\n",
       "      <td>37365.733333</td>\n",
       "    </tr>\n",
       "  </tbody>\n",
       "</table>\n",
       "</div>"
      ],
      "text/plain": [
       "                     QVA\n",
       "DATE                    \n",
       "1996-01-01  36550.300000\n",
       "1996-02-01  36751.000000\n",
       "1996-03-01  36951.700000\n",
       "1996-04-01  37152.400000\n",
       "1996-05-01  37365.733333"
      ]
     },
     "execution_count": 4,
     "metadata": {},
     "output_type": "execute_result"
    }
   ],
   "source": [
    "data_qva.head()"
   ]
  },
  {
   "cell_type": "code",
   "execution_count": 5,
   "id": "56b4623c-5386-40ed-8c97-59cb4870e29f",
   "metadata": {},
   "outputs": [
    {
     "data": {
      "text/html": [
       "<div>\n",
       "<style scoped>\n",
       "    .dataframe tbody tr th:only-of-type {\n",
       "        vertical-align: middle;\n",
       "    }\n",
       "\n",
       "    .dataframe tbody tr th {\n",
       "        vertical-align: top;\n",
       "    }\n",
       "\n",
       "    .dataframe thead th {\n",
       "        text-align: right;\n",
       "    }\n",
       "</style>\n",
       "<table border=\"1\" class=\"dataframe\">\n",
       "  <thead>\n",
       "    <tr style=\"text-align: right;\">\n",
       "      <th></th>\n",
       "      <th>RV</th>\n",
       "      <th>GAS_PRICE_IND</th>\n",
       "      <th>OIL_PRICE</th>\n",
       "    </tr>\n",
       "    <tr>\n",
       "      <th>DATE</th>\n",
       "      <th></th>\n",
       "      <th></th>\n",
       "      <th></th>\n",
       "    </tr>\n",
       "  </thead>\n",
       "  <tbody>\n",
       "    <tr>\n",
       "      <th>1996-01-01</th>\n",
       "      <td>0.97</td>\n",
       "      <td>26.94</td>\n",
       "      <td>27.86</td>\n",
       "    </tr>\n",
       "    <tr>\n",
       "      <th>1996-02-01</th>\n",
       "      <td>0.93</td>\n",
       "      <td>26.94</td>\n",
       "      <td>29.04</td>\n",
       "    </tr>\n",
       "    <tr>\n",
       "      <th>1996-03-01</th>\n",
       "      <td>0.96</td>\n",
       "      <td>26.94</td>\n",
       "      <td>27.99</td>\n",
       "    </tr>\n",
       "    <tr>\n",
       "      <th>1996-04-01</th>\n",
       "      <td>0.94</td>\n",
       "      <td>26.94</td>\n",
       "      <td>28.74</td>\n",
       "    </tr>\n",
       "    <tr>\n",
       "      <th>1996-05-01</th>\n",
       "      <td>0.92</td>\n",
       "      <td>26.94</td>\n",
       "      <td>29.18</td>\n",
       "    </tr>\n",
       "  </tbody>\n",
       "</table>\n",
       "</div>"
      ],
      "text/plain": [
       "              RV  GAS_PRICE_IND  OIL_PRICE\n",
       "DATE                                      \n",
       "1996-01-01  0.97          26.94      27.86\n",
       "1996-02-01  0.93          26.94      29.04\n",
       "1996-03-01  0.96          26.94      27.99\n",
       "1996-04-01  0.94          26.94      28.74\n",
       "1996-05-01  0.92          26.94      29.18"
      ]
     },
     "execution_count": 5,
     "metadata": {},
     "output_type": "execute_result"
    }
   ],
   "source": [
    "data_rv.head()"
   ]
  },
  {
   "cell_type": "code",
   "execution_count": 6,
   "id": "8825c726-d3e9-4bce-a330-4322bce403eb",
   "metadata": {},
   "outputs": [
    {
     "data": {
      "text/html": [
       "<div>\n",
       "<style scoped>\n",
       "    .dataframe tbody tr th:only-of-type {\n",
       "        vertical-align: middle;\n",
       "    }\n",
       "\n",
       "    .dataframe tbody tr th {\n",
       "        vertical-align: top;\n",
       "    }\n",
       "\n",
       "    .dataframe thead th {\n",
       "        text-align: right;\n",
       "    }\n",
       "</style>\n",
       "<table border=\"1\" class=\"dataframe\">\n",
       "  <thead>\n",
       "    <tr style=\"text-align: right;\">\n",
       "      <th></th>\n",
       "      <th>CIVIL</th>\n",
       "      <th>IND</th>\n",
       "    </tr>\n",
       "    <tr>\n",
       "      <th>DATE</th>\n",
       "      <th></th>\n",
       "      <th></th>\n",
       "    </tr>\n",
       "  </thead>\n",
       "  <tbody>\n",
       "    <tr>\n",
       "      <th>1996-01-01</th>\n",
       "      <td>605519</td>\n",
       "      <td>83809</td>\n",
       "    </tr>\n",
       "    <tr>\n",
       "      <th>1996-02-01</th>\n",
       "      <td>566323</td>\n",
       "      <td>70427</td>\n",
       "    </tr>\n",
       "    <tr>\n",
       "      <th>1996-03-01</th>\n",
       "      <td>477514</td>\n",
       "      <td>62652</td>\n",
       "    </tr>\n",
       "    <tr>\n",
       "      <th>1996-04-01</th>\n",
       "      <td>337797</td>\n",
       "      <td>47050</td>\n",
       "    </tr>\n",
       "    <tr>\n",
       "      <th>1996-05-01</th>\n",
       "      <td>184522</td>\n",
       "      <td>30709</td>\n",
       "    </tr>\n",
       "  </tbody>\n",
       "</table>\n",
       "</div>"
      ],
      "text/plain": [
       "             CIVIL    IND\n",
       "DATE                     \n",
       "1996-01-01  605519  83809\n",
       "1996-02-01  566323  70427\n",
       "1996-03-01  477514  62652\n",
       "1996-04-01  337797  47050\n",
       "1996-05-01  184522  30709"
      ]
     },
     "execution_count": 6,
     "metadata": {},
     "output_type": "execute_result"
    }
   ],
   "source": [
    "target.head()"
   ]
  },
  {
   "cell_type": "markdown",
   "id": "71ce050e-6c4b-46e0-8892-a3757c1fbd01",
   "metadata": {},
   "source": [
    "## [2] 데이터 전처리\n",
    "---"
   ]
  },
  {
   "cell_type": "markdown",
   "id": "816a2f8e-9c90-4d4b-ac46-eab8d1c4fbb7",
   "metadata": {},
   "source": [
    "### [2-1] 데이터 정규화"
   ]
  },
  {
   "cell_type": "code",
   "execution_count": 8,
   "id": "1a4be5e0-daf2-4695-a812-d8c70190f300",
   "metadata": {},
   "outputs": [
    {
     "data": {
      "text/html": [
       "<div>\n",
       "<style scoped>\n",
       "    .dataframe tbody tr th:only-of-type {\n",
       "        vertical-align: middle;\n",
       "    }\n",
       "\n",
       "    .dataframe tbody tr th {\n",
       "        vertical-align: top;\n",
       "    }\n",
       "\n",
       "    .dataframe thead th {\n",
       "        text-align: right;\n",
       "    }\n",
       "</style>\n",
       "<table border=\"1\" class=\"dataframe\">\n",
       "  <thead>\n",
       "    <tr style=\"text-align: right;\">\n",
       "      <th></th>\n",
       "      <th>TCL_AT</th>\n",
       "      <th>TCL_LT</th>\n",
       "      <th>TCL_HT</th>\n",
       "      <th>TEMP_EF_CAP</th>\n",
       "      <th>TEMP_EF_DONGNAM</th>\n",
       "      <th>TEMP_EF_DAEGYUNG</th>\n",
       "      <th>TEMP_EF_CHOONG</th>\n",
       "      <th>TEMP_EF_HONAM</th>\n",
       "      <th>TEMP_EF_MEAN</th>\n",
       "      <th>POWER_WATER</th>\n",
       "      <th>...</th>\n",
       "      <th>ELEC_CIVIL_SUM</th>\n",
       "      <th>ELEC_ARGRI_FISHING</th>\n",
       "      <th>ELEC_MINING</th>\n",
       "      <th>ELEC_MANUFACT</th>\n",
       "      <th>ELEC_INDSUM</th>\n",
       "      <th>QVA</th>\n",
       "      <th>RV</th>\n",
       "      <th>GAS_PRICE_IND</th>\n",
       "      <th>OIL_PRICE</th>\n",
       "      <th>IND</th>\n",
       "    </tr>\n",
       "    <tr>\n",
       "      <th>DATE</th>\n",
       "      <th></th>\n",
       "      <th></th>\n",
       "      <th></th>\n",
       "      <th></th>\n",
       "      <th></th>\n",
       "      <th></th>\n",
       "      <th></th>\n",
       "      <th></th>\n",
       "      <th></th>\n",
       "      <th></th>\n",
       "      <th></th>\n",
       "      <th></th>\n",
       "      <th></th>\n",
       "      <th></th>\n",
       "      <th></th>\n",
       "      <th></th>\n",
       "      <th></th>\n",
       "      <th></th>\n",
       "      <th></th>\n",
       "      <th></th>\n",
       "      <th></th>\n",
       "    </tr>\n",
       "  </thead>\n",
       "  <tbody>\n",
       "    <tr>\n",
       "      <th>1996-01-01</th>\n",
       "      <td>0.004764</td>\n",
       "      <td>-0.189311</td>\n",
       "      <td>0.240528</td>\n",
       "      <td>0.84711</td>\n",
       "      <td>5.91778</td>\n",
       "      <td>6.73765</td>\n",
       "      <td>3.33479</td>\n",
       "      <td>1.88651</td>\n",
       "      <td>3.744768</td>\n",
       "      <td>363291</td>\n",
       "      <td>...</td>\n",
       "      <td>6988059</td>\n",
       "      <td>301811</td>\n",
       "      <td>80421</td>\n",
       "      <td>8854576</td>\n",
       "      <td>9236808</td>\n",
       "      <td>36550.300000</td>\n",
       "      <td>0.97</td>\n",
       "      <td>26.94</td>\n",
       "      <td>27.86</td>\n",
       "      <td>83809</td>\n",
       "    </tr>\n",
       "    <tr>\n",
       "      <th>1996-02-01</th>\n",
       "      <td>0.007708</td>\n",
       "      <td>-0.226982</td>\n",
       "      <td>0.372691</td>\n",
       "      <td>0.81430</td>\n",
       "      <td>5.90875</td>\n",
       "      <td>6.73291</td>\n",
       "      <td>3.32638</td>\n",
       "      <td>1.87883</td>\n",
       "      <td>3.732234</td>\n",
       "      <td>356379</td>\n",
       "      <td>...</td>\n",
       "      <td>6898533</td>\n",
       "      <td>327617</td>\n",
       "      <td>70471</td>\n",
       "      <td>8067220</td>\n",
       "      <td>8465308</td>\n",
       "      <td>36751.000000</td>\n",
       "      <td>0.93</td>\n",
       "      <td>26.94</td>\n",
       "      <td>29.04</td>\n",
       "      <td>70427</td>\n",
       "    </tr>\n",
       "    <tr>\n",
       "      <th>1996-03-01</th>\n",
       "      <td>0.137972</td>\n",
       "      <td>-0.045631</td>\n",
       "      <td>0.367739</td>\n",
       "      <td>0.60731</td>\n",
       "      <td>5.81529</td>\n",
       "      <td>6.67634</td>\n",
       "      <td>3.22000</td>\n",
       "      <td>1.78740</td>\n",
       "      <td>3.621268</td>\n",
       "      <td>362980</td>\n",
       "      <td>...</td>\n",
       "      <td>6416945</td>\n",
       "      <td>345359</td>\n",
       "      <td>81877</td>\n",
       "      <td>9250086</td>\n",
       "      <td>9677322</td>\n",
       "      <td>36951.700000</td>\n",
       "      <td>0.96</td>\n",
       "      <td>26.94</td>\n",
       "      <td>27.99</td>\n",
       "      <td>62652</td>\n",
       "    </tr>\n",
       "    <tr>\n",
       "      <th>1996-04-01</th>\n",
       "      <td>0.261910</td>\n",
       "      <td>0.029456</td>\n",
       "      <td>0.582132</td>\n",
       "      <td>0.24132</td>\n",
       "      <td>5.71003</td>\n",
       "      <td>6.61264</td>\n",
       "      <td>3.07795</td>\n",
       "      <td>1.66054</td>\n",
       "      <td>3.460496</td>\n",
       "      <td>367415</td>\n",
       "      <td>...</td>\n",
       "      <td>6615182</td>\n",
       "      <td>292235</td>\n",
       "      <td>84596</td>\n",
       "      <td>9274014</td>\n",
       "      <td>9650845</td>\n",
       "      <td>37152.400000</td>\n",
       "      <td>0.94</td>\n",
       "      <td>26.94</td>\n",
       "      <td>28.74</td>\n",
       "      <td>47050</td>\n",
       "    </tr>\n",
       "    <tr>\n",
       "      <th>1996-05-01</th>\n",
       "      <td>0.428759</td>\n",
       "      <td>0.242892</td>\n",
       "      <td>0.688458</td>\n",
       "      <td>-0.38328</td>\n",
       "      <td>5.67433</td>\n",
       "      <td>6.58956</td>\n",
       "      <td>3.02586</td>\n",
       "      <td>1.62083</td>\n",
       "      <td>3.305460</td>\n",
       "      <td>440662</td>\n",
       "      <td>...</td>\n",
       "      <td>6370027</td>\n",
       "      <td>302913</td>\n",
       "      <td>80963</td>\n",
       "      <td>9274169</td>\n",
       "      <td>9658045</td>\n",
       "      <td>37365.733333</td>\n",
       "      <td>0.92</td>\n",
       "      <td>26.94</td>\n",
       "      <td>29.18</td>\n",
       "      <td>30709</td>\n",
       "    </tr>\n",
       "  </tbody>\n",
       "</table>\n",
       "<p>5 rows × 34 columns</p>\n",
       "</div>"
      ],
      "text/plain": [
       "              TCL_AT    TCL_LT    TCL_HT  TEMP_EF_CAP  TEMP_EF_DONGNAM  \\\n",
       "DATE                                                                     \n",
       "1996-01-01  0.004764 -0.189311  0.240528      0.84711          5.91778   \n",
       "1996-02-01  0.007708 -0.226982  0.372691      0.81430          5.90875   \n",
       "1996-03-01  0.137972 -0.045631  0.367739      0.60731          5.81529   \n",
       "1996-04-01  0.261910  0.029456  0.582132      0.24132          5.71003   \n",
       "1996-05-01  0.428759  0.242892  0.688458     -0.38328          5.67433   \n",
       "\n",
       "            TEMP_EF_DAEGYUNG  TEMP_EF_CHOONG  TEMP_EF_HONAM  TEMP_EF_MEAN  \\\n",
       "DATE                                                                        \n",
       "1996-01-01           6.73765         3.33479        1.88651      3.744768   \n",
       "1996-02-01           6.73291         3.32638        1.87883      3.732234   \n",
       "1996-03-01           6.67634         3.22000        1.78740      3.621268   \n",
       "1996-04-01           6.61264         3.07795        1.66054      3.460496   \n",
       "1996-05-01           6.58956         3.02586        1.62083      3.305460   \n",
       "\n",
       "            POWER_WATER  ...  ELEC_CIVIL_SUM  ELEC_ARGRI_FISHING  ELEC_MINING  \\\n",
       "DATE                     ...                                                    \n",
       "1996-01-01       363291  ...         6988059              301811        80421   \n",
       "1996-02-01       356379  ...         6898533              327617        70471   \n",
       "1996-03-01       362980  ...         6416945              345359        81877   \n",
       "1996-04-01       367415  ...         6615182              292235        84596   \n",
       "1996-05-01       440662  ...         6370027              302913        80963   \n",
       "\n",
       "            ELEC_MANUFACT  ELEC_INDSUM           QVA    RV  GAS_PRICE_IND  \\\n",
       "DATE                                                                        \n",
       "1996-01-01        8854576      9236808  36550.300000  0.97          26.94   \n",
       "1996-02-01        8067220      8465308  36751.000000  0.93          26.94   \n",
       "1996-03-01        9250086      9677322  36951.700000  0.96          26.94   \n",
       "1996-04-01        9274014      9650845  37152.400000  0.94          26.94   \n",
       "1996-05-01        9274169      9658045  37365.733333  0.92          26.94   \n",
       "\n",
       "            OIL_PRICE    IND  \n",
       "DATE                          \n",
       "1996-01-01      27.86  83809  \n",
       "1996-02-01      29.04  70427  \n",
       "1996-03-01      27.99  62652  \n",
       "1996-04-01      28.74  47050  \n",
       "1996-05-01      29.18  30709  \n",
       "\n",
       "[5 rows x 34 columns]"
      ]
     },
     "execution_count": 8,
     "metadata": {},
     "output_type": "execute_result"
    }
   ],
   "source": [
    "# 데이터 합치기\n",
    "data = pd.concat([data_tomato, data_qva, data_rv, target.loc[:,\"IND\"]], axis=1)\n",
    "data.head()"
   ]
  },
  {
   "cell_type": "code",
   "execution_count": 9,
   "id": "97633d67-d6bf-435b-bea8-995666681836",
   "metadata": {},
   "outputs": [],
   "source": [
    "# min max 정규화 객채 생성\n",
    "scaler = MinMaxScaler()\n",
    "# 정규화 시킨 후 추가할 컬럼 리스트\n",
    "scale_cols = list(data.columns)\n",
    "\n",
    "# 정규화 진행\n",
    "scaled = scaler.fit_transform(data)\n",
    "data_scaled = pd.DataFrame(scaled, columns=scale_cols)\n",
    "\n",
    "# 타겟 정리\n",
    "target_ind = scaler.fit_transform(pd.DataFrame(target[\"IND\"]))"
   ]
  },
  {
   "cell_type": "code",
   "execution_count": 10,
   "id": "fcc0349c-4044-4a4e-b26e-35853d516252",
   "metadata": {},
   "outputs": [
    {
     "data": {
      "text/plain": [
       "Index(['TCL_AT', 'TCL_LT', 'TCL_HT', 'TEMP_EF_CAP', 'TEMP_EF_DONGNAM',\n",
       "       'TEMP_EF_DAEGYUNG', 'TEMP_EF_CHOONG', 'TEMP_EF_HONAM', 'TEMP_EF_MEAN',\n",
       "       'POWER_WATER', 'POWER_FIRE', 'POWER_NUCLEAR', 'POWER_NAEYEON',\n",
       "       'POWER_GROUP', 'POWER_TRANS', 'POWER_GAS', 'POWER_JUNG', 'POWER_MOO',\n",
       "       'POWER_YOU', 'POWER_LNG', 'ELEC_ALL', 'ELEC_FAMILY', 'ELEC_PUBLIC',\n",
       "       'ELEC_SERVICE', 'ELEC_CIVIL_SUM', 'ELEC_ARGRI_FISHING', 'ELEC_MINING',\n",
       "       'ELEC_MANUFACT', 'ELEC_INDSUM', 'QVA', 'RV', 'GAS_PRICE_IND',\n",
       "       'OIL_PRICE', 'IND'],\n",
       "      dtype='object')"
      ]
     },
     "execution_count": 10,
     "metadata": {},
     "output_type": "execute_result"
    }
   ],
   "source": [
    "data_scaled.columns"
   ]
  },
  {
   "cell_type": "code",
   "execution_count": 15,
   "id": "2105fc0d-8f8f-4da4-a119-8eca404c6792",
   "metadata": {},
   "outputs": [],
   "source": [
    "# 쓸 컬럼만 정리하기\n",
    "ind_cols = [\n",
    "    \"TCL_HT\",\n",
    "    \"POWER_GAS\",\n",
    "    \"POWER_MOO\",\n",
    "    \"POWER_LNG\",\n",
    "    \"ELEC_MANUFACT\",\n",
    "    \"ELEC_ARGRI_FISHING\",\n",
    "    \"ELEC_MINING\",\n",
    "    \"ELEC_CIVIL_SUM\",\n",
    "    \"QVA\",\n",
    "    \"RV\",\n",
    "    \"GAS_PRICE_IND\",\n",
    "    \"OIL_PRICE\",\n",
    "    \"IND\"\n",
    "]\n",
    "\n",
    "data_ind = data_scaled.loc[:, ind_cols]"
   ]
  },
  {
   "cell_type": "markdown",
   "id": "41d56604-9c1f-43fd-9150-f87dee31ebb1",
   "metadata": {},
   "source": [
    "### [2-2] 데이터 분할"
   ]
  },
  {
   "cell_type": "code",
   "execution_count": 16,
   "id": "683c8d4d-fd97-4bb8-b20c-e2ead134128b",
   "metadata": {},
   "outputs": [],
   "source": [
    "X_train, X_test, y_train, y_test = train_test_split(\n",
    "    data_ind, target_ind, shuffle=False, test_size=0.2, random_state=42\n",
    ")"
   ]
  },
  {
   "cell_type": "code",
   "execution_count": 17,
   "id": "086cba47-dfa5-43ca-b84f-a96c4b1f0f5e",
   "metadata": {},
   "outputs": [
    {
     "name": "stdout",
     "output_type": "stream",
     "text": [
      "(240, 13) (240, 1)\n"
     ]
    }
   ],
   "source": [
    "print(X_train.shape, y_train.shape)"
   ]
  },
  {
   "cell_type": "code",
   "execution_count": 18,
   "id": "8a9edc67-b4b6-4c08-9b2f-434af05cd822",
   "metadata": {},
   "outputs": [
    {
     "name": "stdout",
     "output_type": "stream",
     "text": [
      "(60, 13) (60, 1)\n"
     ]
    }
   ],
   "source": [
    "print(X_test.shape, y_test.shape)"
   ]
  },
  {
   "cell_type": "markdown",
   "id": "a59e24d1-ceed-4940-a133-2a4858f1e99f",
   "metadata": {},
   "source": [
    "### [2-3] 시퀀스 데이터셋 구성"
   ]
  },
  {
   "cell_type": "code",
   "execution_count": 19,
   "id": "60693d5f-6b2b-4bb9-8739-d40214bbd7b9",
   "metadata": {},
   "outputs": [],
   "source": [
    "def windowed_dataset(X, y, window_size, batch_size, shuffle):\n",
    "    # X 값 window dataset 구성\n",
    "    X_ds = tf.data.Dataset.from_tensor_slices(X)\n",
    "    X_ds = X_ds.window(window_size, shift=1, stride=1, drop_remainder=True)\n",
    "    X_ds = X_ds.flat_map(lambda x: x.batch(window_size))\n",
    "    # y 값 추가\n",
    "    y_ds = tf.data.Dataset.from_tensor_slices(y[window_size:])\n",
    "    ds = tf.data.Dataset.zip((X_ds, y_ds))\n",
    "    if shuffle:\n",
    "        ds = ds.shuffle(80)\n",
    "    return ds.batch(batch_size).prefetch(1)"
   ]
  },
  {
   "cell_type": "code",
   "execution_count": 20,
   "id": "961f0f44-bb85-4641-97fe-9aa854a4a196",
   "metadata": {},
   "outputs": [
    {
     "name": "stderr",
     "output_type": "stream",
     "text": [
      "2022-10-18 16:15:09.741898: I tensorflow/core/platform/cpu_feature_guard.cc:193] This TensorFlow binary is optimized with oneAPI Deep Neural Network Library (oneDNN) to use the following CPU instructions in performance-critical operations:  SSE4.1 SSE4.2 AVX AVX2 AVX512F AVX512_VNNI FMA\n",
      "To enable them in other operations, rebuild TensorFlow with the appropriate compiler flags.\n"
     ]
    }
   ],
   "source": [
    "WINDOW_SIZE = 5\n",
    "BATCH_SIZE = 32\n",
    "\n",
    "train_data = windowed_dataset(X_train, y_train, WINDOW_SIZE, BATCH_SIZE, True)\n",
    "test_data = windowed_dataset(X_test, y_test, WINDOW_SIZE, BATCH_SIZE, False)"
   ]
  },
  {
   "cell_type": "code",
   "execution_count": 21,
   "id": "4818774a-3895-4b22-96b0-b3c0b69d5be9",
   "metadata": {},
   "outputs": [
    {
     "name": "stdout",
     "output_type": "stream",
     "text": [
      "(32, 5, 13)\n"
     ]
    }
   ],
   "source": [
    "for data in train_data.take(1):\n",
    "    print(data[0].shape)"
   ]
  },
  {
   "cell_type": "markdown",
   "id": "0d464e48-c814-41da-8b0a-d128a6b2ee1d",
   "metadata": {},
   "source": [
    "## [3] 모델 생성\n",
    "---"
   ]
  },
  {
   "cell_type": "code",
   "execution_count": 41,
   "id": "41b14213-0def-4ddc-aa2f-94562f5b89af",
   "metadata": {},
   "outputs": [
    {
     "name": "stdout",
     "output_type": "stream",
     "text": [
      "Model: \"sequential_3\"\n",
      "_________________________________________________________________\n",
      " Layer (type)                Output Shape              Param #   \n",
      "=================================================================\n",
      " conv1d_3 (Conv1D)           (None, 3, 64)             2560      \n",
      "                                                                 \n",
      " lstm_8 (LSTM)               (None, 64)                33024     \n",
      "                                                                 \n",
      " dropout_11 (Dropout)        (None, 64)                0         \n",
      "                                                                 \n",
      " dense_6 (Dense)             (None, 64)                4160      \n",
      "                                                                 \n",
      " dropout_12 (Dropout)        (None, 64)                0         \n",
      "                                                                 \n",
      " dense_7 (Dense)             (None, 1)                 65        \n",
      "                                                                 \n",
      "=================================================================\n",
      "Total params: 39,809\n",
      "Trainable params: 39,809\n",
      "Non-trainable params: 0\n",
      "_________________________________________________________________\n"
     ]
    }
   ],
   "source": [
    "model = Sequential(\n",
    "    [\n",
    "        Conv1D(\n",
    "            filters=64, kernel_size=3, activation=\"relu\", input_shape=[WINDOW_SIZE, 13]\n",
    "        ),\n",
    "        LSTM(64),\n",
    "        Dropout(0.25),\n",
    "        Dense(64, activation=\"relu\"),\n",
    "        Dropout(0.25),\n",
    "        Dense(1),\n",
    "    ]\n",
    ")\n",
    "\n",
    "loss = Huber()\n",
    "optimizer = Adam(0.0005)\n",
    "\n",
    "model.compile(optimizer=optimizer, loss=loss, metrics=\"mse\")\n",
    "model.summary()"
   ]
  },
  {
   "cell_type": "code",
   "execution_count": 42,
   "id": "1b2b0825-02ed-426f-96e4-beec7996a95e",
   "metadata": {},
   "outputs": [
    {
     "name": "stdout",
     "output_type": "stream",
     "text": [
      "Epoch 1/50\n"
     ]
    }
   ],
   "source": [
    "model.fit(train_data, epochs=50)"
   ]
  },
  {
   "cell_type": "code",
   "execution_count": 38,
   "id": "f3ab3d62",
   "metadata": {},
   "outputs": [
    {
     "name": "stdout",
     "output_type": "stream",
     "text": [
      "2/2 [==============================] - 3s 303ms/step\n"
     ]
    }
   ],
   "source": [
    "pred = model.predict(test_data)"
   ]
  },
  {
   "cell_type": "code",
   "execution_count": 39,
   "id": "9645ce4e",
   "metadata": {},
   "outputs": [
    {
     "data": {
      "text/plain": [
       "(55, 1)"
      ]
     },
     "execution_count": 39,
     "metadata": {},
     "output_type": "execute_result"
    }
   ],
   "source": [
    "pred.shape"
   ]
  },
  {
   "cell_type": "code",
   "execution_count": 40,
   "id": "a48233d4",
   "metadata": {},
   "outputs": [
    {
     "data": {
      "image/png": "[encoded data removed]",
      "text/plain": [
       "<Figure size 800x500 with 1 Axes>"
      ]
     },
     "metadata": {},
     "output_type": "display_data"
    }
   ],
   "source": [
    "plt.figure(figsize=(8, 5))\n",
    "plt.plot(np.asarray(y_test)[5:], label=\"actual\")\n",
    "plt.plot(pred, label=\"prediction\")\n",
    "plt.legend()\n",
    "plt.show()"
   ]
  },
  {
   "cell_type": "code",
   "execution_count": null,
   "id": "d72b4627",
   "metadata": {},
   "outputs": [],
   "source": []
  },
  {
   "cell_type": "code",
   "execution_count": null,
   "id": "18078251-adc6-4bcb-b95f-12f3949d6d13",
   "metadata": {},
   "outputs": [],
   "source": []
  },
  {
   "cell_type": "code",
   "execution_count": null,
   "id": "e4d3484b-cada-44a4-8629-f1d96692be2b",
   "metadata": {},
   "outputs": [],
   "source": []
  }
 ],
 "metadata": {
  "kernelspec": {
   "display_name": "Python 3 (ipykernel)",
   "language": "python",
   "name": "python3"
  },
  "language_info": {
   "codemirror_mode": {
    "name": "ipython",
    "version": 3
   },
   "file_extension": ".py",
   "mimetype": "text/x-python",
   "name": "python",
   "nbconvert_exporter": "python",
   "pygments_lexer": "ipython3",
   "version": "3.10.6"
  },
  "vscode": {
   "interpreter": {
    "hash": "d4d1e4263499bec80672ea0156c357c1ee493ec2b1c70f0acce89fc37c4a6abe"
   }
  }
 },
 "nbformat": 4,
 "nbformat_minor": 5
}
