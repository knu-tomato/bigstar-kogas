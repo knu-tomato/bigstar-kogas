{
 "cells": [
  {
   "cell_type": "markdown",
   "id": "d717cd88-ecac-41b4-860a-ec41c5e351e2",
   "metadata": {},
   "source": [
    "# GRU 모델 테스트 - 산업용\n",
    "---"
   ]
  },
  {
   "cell_type": "code",
   "execution_count": 389,
   "id": "632babb4-6ef0-4a49-8bad-681d4a12bc13",
   "metadata": {},
   "outputs": [],
   "source": [
    "import keras\n",
    "import matplotlib.pyplot as plt\n",
    "import numpy as np\n",
    "import pandas as pd\n",
    "import tensorflow as tf\n",
    "\n",
    "from keras import Sequential\n",
    "from keras.layers import LSTM, Conv1D, Dense, GRU\n",
    "from keras.losses import Huber\n",
    "from keras.optimizers import Adam\n",
    "\n",
    "from sklearn.model_selection import train_test_split\n",
    "from sklearn.preprocessing import MinMaxScaler, StandardScaler"
   ]
  },
  {
   "cell_type": "markdown",
   "id": "1ea419cd-2c7b-43ff-97c1-ac6843802df2",
   "metadata": {},
   "source": [
    "## [1] 데이터 로딩\n",
    "---"
   ]
  },
  {
   "cell_type": "code",
   "execution_count": 390,
   "id": "b004de55-72fb-48fc-a476-2772eb6b1095",
   "metadata": {},
   "outputs": [],
   "source": [
    "data_pre = pd.read_csv(\"./data/data_use.csv\", index_col=0)\n",
    "data_pred = pd.read_csv(\"./data/data_future.csv\", index_col=0)\n",
    "target = pd.read_csv(\"./data/target.csv\", index_col=0)\n",
    "\n",
    "# 데이터 병합\n",
    "data = pd.concat([data_pre, data_pred], axis=0)\n",
    "data = data.iloc[:468, ]\n",
    "\n",
    "# 산업용 컬럼 추출\n",
    "ind_cols = [\"TEMP_EF\", \"TCL_LT\", \"POWER_GAS\", \"ELEC_IND_SUM\", \"OIL_PRICE\", \"QVA\"]\n",
    "data = data.loc[:, ind_cols]\n",
    "\n",
    "# 산업용 타겟 추출\n",
    "target = target.loc[:, [\"IND\"]]"
   ]
  },
  {
   "cell_type": "code",
   "execution_count": 391,
   "id": "8d3b6962-64ed-442f-8082-de467f06d209",
   "metadata": {},
   "outputs": [
    {
     "data": {
      "text/html": [
       "<div>\n",
       "<style scoped>\n",
       "    .dataframe tbody tr th:only-of-type {\n",
       "        vertical-align: middle;\n",
       "    }\n",
       "\n",
       "    .dataframe tbody tr th {\n",
       "        vertical-align: top;\n",
       "    }\n",
       "\n",
       "    .dataframe thead th {\n",
       "        text-align: right;\n",
       "    }\n",
       "</style>\n",
       "<table border=\"1\" class=\"dataframe\">\n",
       "  <thead>\n",
       "    <tr style=\"text-align: right;\">\n",
       "      <th></th>\n",
       "      <th>TEMP_EF</th>\n",
       "      <th>TCL_LT</th>\n",
       "      <th>POWER_GAS</th>\n",
       "      <th>ELEC_IND_SUM</th>\n",
       "      <th>OIL_PRICE</th>\n",
       "      <th>QVA</th>\n",
       "    </tr>\n",
       "    <tr>\n",
       "      <th>DATE</th>\n",
       "      <th></th>\n",
       "      <th></th>\n",
       "      <th></th>\n",
       "      <th></th>\n",
       "      <th></th>\n",
       "      <th></th>\n",
       "    </tr>\n",
       "  </thead>\n",
       "  <tbody>\n",
       "    <tr>\n",
       "      <th>1996-01-01</th>\n",
       "      <td>3.744768</td>\n",
       "      <td>-0.189311</td>\n",
       "      <td>8408979</td>\n",
       "      <td>9236808</td>\n",
       "      <td>27.86</td>\n",
       "      <td>36550.300000</td>\n",
       "    </tr>\n",
       "    <tr>\n",
       "      <th>1996-02-01</th>\n",
       "      <td>3.732234</td>\n",
       "      <td>-0.226982</td>\n",
       "      <td>7593086</td>\n",
       "      <td>8465308</td>\n",
       "      <td>29.04</td>\n",
       "      <td>36751.000000</td>\n",
       "    </tr>\n",
       "    <tr>\n",
       "      <th>1996-03-01</th>\n",
       "      <td>3.621268</td>\n",
       "      <td>-0.045631</td>\n",
       "      <td>8306941</td>\n",
       "      <td>9677322</td>\n",
       "      <td>27.99</td>\n",
       "      <td>36951.700000</td>\n",
       "    </tr>\n",
       "    <tr>\n",
       "      <th>1996-04-01</th>\n",
       "      <td>3.460496</td>\n",
       "      <td>0.029456</td>\n",
       "      <td>8299351</td>\n",
       "      <td>9650845</td>\n",
       "      <td>28.74</td>\n",
       "      <td>37152.400000</td>\n",
       "    </tr>\n",
       "    <tr>\n",
       "      <th>1996-05-01</th>\n",
       "      <td>3.305460</td>\n",
       "      <td>0.242892</td>\n",
       "      <td>8156027</td>\n",
       "      <td>9658045</td>\n",
       "      <td>29.18</td>\n",
       "      <td>37365.733333</td>\n",
       "    </tr>\n",
       "  </tbody>\n",
       "</table>\n",
       "</div>"
      ],
      "text/plain": [
       "             TEMP_EF    TCL_LT  POWER_GAS  ELEC_IND_SUM  OIL_PRICE  \\\n",
       "DATE                                                                 \n",
       "1996-01-01  3.744768 -0.189311    8408979       9236808      27.86   \n",
       "1996-02-01  3.732234 -0.226982    7593086       8465308      29.04   \n",
       "1996-03-01  3.621268 -0.045631    8306941       9677322      27.99   \n",
       "1996-04-01  3.460496  0.029456    8299351       9650845      28.74   \n",
       "1996-05-01  3.305460  0.242892    8156027       9658045      29.18   \n",
       "\n",
       "                     QVA  \n",
       "DATE                      \n",
       "1996-01-01  36550.300000  \n",
       "1996-02-01  36751.000000  \n",
       "1996-03-01  36951.700000  \n",
       "1996-04-01  37152.400000  \n",
       "1996-05-01  37365.733333  "
      ]
     },
     "execution_count": 391,
     "metadata": {},
     "output_type": "execute_result"
    }
   ],
   "source": [
    "data.head()"
   ]
  },
  {
   "cell_type": "code",
   "execution_count": 392,
   "id": "19ca9052-e374-434f-886a-9020d6af1c85",
   "metadata": {},
   "outputs": [
    {
     "data": {
      "text/html": [
       "<div>\n",
       "<style scoped>\n",
       "    .dataframe tbody tr th:only-of-type {\n",
       "        vertical-align: middle;\n",
       "    }\n",
       "\n",
       "    .dataframe tbody tr th {\n",
       "        vertical-align: top;\n",
       "    }\n",
       "\n",
       "    .dataframe thead th {\n",
       "        text-align: right;\n",
       "    }\n",
       "</style>\n",
       "<table border=\"1\" class=\"dataframe\">\n",
       "  <thead>\n",
       "    <tr style=\"text-align: right;\">\n",
       "      <th></th>\n",
       "      <th>IND</th>\n",
       "    </tr>\n",
       "    <tr>\n",
       "      <th>DATE</th>\n",
       "      <th></th>\n",
       "    </tr>\n",
       "  </thead>\n",
       "  <tbody>\n",
       "    <tr>\n",
       "      <th>1996-01-01</th>\n",
       "      <td>83809</td>\n",
       "    </tr>\n",
       "    <tr>\n",
       "      <th>1996-02-01</th>\n",
       "      <td>70427</td>\n",
       "    </tr>\n",
       "    <tr>\n",
       "      <th>1996-03-01</th>\n",
       "      <td>62652</td>\n",
       "    </tr>\n",
       "    <tr>\n",
       "      <th>1996-04-01</th>\n",
       "      <td>47050</td>\n",
       "    </tr>\n",
       "    <tr>\n",
       "      <th>1996-05-01</th>\n",
       "      <td>30709</td>\n",
       "    </tr>\n",
       "  </tbody>\n",
       "</table>\n",
       "</div>"
      ],
      "text/plain": [
       "              IND\n",
       "DATE             \n",
       "1996-01-01  83809\n",
       "1996-02-01  70427\n",
       "1996-03-01  62652\n",
       "1996-04-01  47050\n",
       "1996-05-01  30709"
      ]
     },
     "execution_count": 392,
     "metadata": {},
     "output_type": "execute_result"
    }
   ],
   "source": [
    "target.head()"
   ]
  },
  {
   "cell_type": "markdown",
   "id": "7715b427-31a2-43f6-9212-c87b03cce503",
   "metadata": {},
   "source": [
    "## [2] 데이터 전처리\n",
    "---"
   ]
  },
  {
   "cell_type": "markdown",
   "id": "e5ca9dde-2a19-4b8a-9919-c82b3e62b04a",
   "metadata": {},
   "source": [
    "### [2-1] 데이터 정규화"
   ]
  },
  {
   "cell_type": "code",
   "execution_count": 393,
   "id": "b8ab64b5-ca59-4865-b3d4-3f0b47fec8f1",
   "metadata": {},
   "outputs": [],
   "source": [
    "# 스케일러 생성\n",
    "data_scaler = MinMaxScaler()\n",
    "target_scaler = MinMaxScaler()\n",
    "\n",
    "# 컬럼\n",
    "cols = list(data.columns)\n",
    "\n",
    "# fit\n",
    "data_scaler.fit(data)\n",
    "target_scaler.fit(target)\n",
    "\n",
    "# transform\n",
    "data_scaled = data_scaler.transform(data)\n",
    "target_scaled = target_scaler.transform(target)\n",
    "\n",
    "# to df\n",
    "data_scaled = pd.DataFrame(data_scaled)\n",
    "data_scaled.columns = cols"
   ]
  },
  {
   "cell_type": "markdown",
   "id": "98c3b0ac-aa54-4065-a1d8-adddcb7fd9f2",
   "metadata": {},
   "source": [
    "### [2-2] window 데이터셋 생성"
   ]
  },
  {
   "cell_type": "code",
   "execution_count": 394,
   "id": "e2013df2-ced5-48f0-bb39-d15123f13115",
   "metadata": {},
   "outputs": [],
   "source": [
    "def windowed_dataset(X, y, window_size, batch_size, shuffle):\n",
    "    # X 값 window dataset 구성\n",
    "    X_ds = tf.data.Dataset.from_tensor_slices(X)\n",
    "    X_ds = X_ds.window(window_size, shift=1, stride=1, drop_remainder=True)\n",
    "    X_ds = X_ds.flat_map(lambda x: x.batch(window_size))\n",
    "    # y 값 추가\n",
    "    y_ds = tf.data.Dataset.from_tensor_slices(y[window_size:])\n",
    "    ds = tf.data.Dataset.zip((X_ds, y_ds))\n",
    "    if shuffle:\n",
    "        ds = ds.shuffle(100)\n",
    "        \n",
    "    return ds.batch(batch_size).prefetch(1)"
   ]
  },
  {
   "cell_type": "code",
   "execution_count": 395,
   "id": "50906448-b6fc-4dc6-92fe-3f22c15d8590",
   "metadata": {},
   "outputs": [],
   "source": [
    "def predict_dataset(X, window_size, batch_size):\n",
    "    # X 값 window dataset 구성\n",
    "    X_ds = tf.data.Dataset.from_tensor_slices(X)\n",
    "    X_ds = X_ds.window(window_size, shift=1, stride=1, drop_remainder=True)\n",
    "    X_ds = X_ds.flat_map(lambda x: x.batch(window_size))\n",
    "        \n",
    "    return X_ds.batch(batch_size).prefetch(1)"
   ]
  },
  {
   "cell_type": "code",
   "execution_count": 396,
   "id": "aefa4eb8-e82e-4137-bcbb-142a352a386e",
   "metadata": {},
   "outputs": [],
   "source": [
    "# 모델 파라미터\n",
    "WINDOW_SIZE = 5\n",
    "BATCH_SIZE = 32\n",
    "INPUT_SHAPE = (WINDOW_SIZE, data.shape[1])\n",
    "\n",
    "# 학습, 예측 데이터\n",
    "data_train = data_scaled.iloc[:300, :]\n",
    "data_pred = data_scaled.iloc[300-WINDOW_SIZE:, :]\n",
    "\n",
    "# 데이터셋 생성\n",
    "train_ds = windowed_dataset(\n",
    "    data_train, target_scaled, WINDOW_SIZE, BATCH_SIZE, False\n",
    ")\n",
    "\n",
    "pred_ds = predict_dataset(\n",
    "    data_pred, WINDOW_SIZE, BATCH_SIZE\n",
    ")"
   ]
  },
  {
   "cell_type": "markdown",
   "id": "1696be92-8482-4e64-9c73-3a0fe29d6adb",
   "metadata": {},
   "source": [
    "## [3] 모델 생성\n",
    "---"
   ]
  },
  {
   "cell_type": "code",
   "execution_count": 397,
   "id": "638ab336-616b-4bc5-9f1d-b484b74620ed",
   "metadata": {},
   "outputs": [],
   "source": [
    "# 랜덤 시드 고정\n",
    "tf.random.set_seed(42)\n",
    "\n",
    "# LSTM 모델 생성\n",
    "def make_model(filters, units, input_shape):\n",
    "    model = Sequential(\n",
    "        [\n",
    "            Conv1D(\n",
    "                filters=filters, kernel_size=5, activation=\"relu\", input_shape=input_shape\n",
    "            ),\n",
    "            # GRU(units*1, return_sequences=True),\n",
    "            # LSTM(units*1, return_sequences=True),\n",
    "            LSTM(units*1),\n",
    "            Dense(1),\n",
    "        ]\n",
    "    )\n",
    "\n",
    "    # loss: sequence에서 좋은 성능을 보여주는 Huber 사용\n",
    "    loss = Huber()\n",
    "    # optimizer: Adam 사용\n",
    "    optimizer = Adam(0.0003)\n",
    "\n",
    "    model.compile(optimizer=optimizer, loss=loss, metrics=\"mse\")\n",
    "    \n",
    "    return model"
   ]
  },
  {
   "cell_type": "code",
   "execution_count": 398,
   "id": "684a8e1c-41e0-4f88-876b-510b06c3444e",
   "metadata": {},
   "outputs": [
    {
     "data": {
      "text/plain": [
       "<keras.callbacks.History at 0x7f3b8206ded0>"
      ]
     },
     "execution_count": 398,
     "metadata": {},
     "output_type": "execute_result"
    }
   ],
   "source": [
    "model = make_model(32, 32, INPUT_SHAPE)\n",
    "model.fit(train_ds, epochs=50, verbose=False)"
   ]
  },
  {
   "cell_type": "markdown",
   "id": "37f3b7cc-a50a-4269-8007-806ad87e2e4f",
   "metadata": {},
   "source": [
    "## [4] 예측 시각화\n",
    "---"
   ]
  },
  {
   "cell_type": "code",
   "execution_count": 399,
   "id": "603989c5-62d8-435e-8df5-d1df0fb80d15",
   "metadata": {},
   "outputs": [
    {
     "name": "stdout",
     "output_type": "stream",
     "text": [
      "6/6 [==============================] - 0s 5ms/step\n"
     ]
    }
   ],
   "source": [
    "pred = model.predict(pred_ds)"
   ]
  },
  {
   "cell_type": "code",
   "execution_count": 400,
   "id": "af3d455e-9ac6-43af-a589-899043cdd906",
   "metadata": {},
   "outputs": [],
   "source": [
    "# 스케일 복구하기\n",
    "inverse = target_scaler.inverse_transform(pred)\n",
    "inverse = pd.DataFrame(list(inverse.reshape(-1, )), columns=[\"IND\"])"
   ]
  },
  {
   "cell_type": "code",
   "execution_count": 401,
   "id": "54c33311-e0c1-45ca-8ad5-b39dc02ce5c8",
   "metadata": {},
   "outputs": [],
   "source": [
    "# 결과값 생성\n",
    "result = pd.concat([target, inverse]).reset_index(drop=True).iloc[:-1,]"
   ]
  },
  {
   "cell_type": "code",
   "execution_count": 402,
   "id": "dbeb2853-48ce-40a7-9aae-1388645bf703",
   "metadata": {},
   "outputs": [
    {
     "data": {
      "image/png": "[encoded data removed]",
      "text/plain": [
       "<Figure size 640x480 with 1 Axes>"
      ]
     },
     "metadata": {},
     "output_type": "display_data"
    }
   ],
   "source": [
    "plt.plot(result);"
   ]
  },
  {
   "cell_type": "code",
   "execution_count": null,
   "id": "771dd11f-f81d-44f7-a031-72da5418e12b",
   "metadata": {},
   "outputs": [],
   "source": []
  }
 ],
 "metadata": {
  "kernelspec": {
   "display_name": "Python 3 (ipykernel)",
   "language": "python",
   "name": "python3"
  },
  "language_info": {
   "codemirror_mode": {
    "name": "ipython",
    "version": 3
   },
   "file_extension": ".py",
   "mimetype": "text/x-python",
   "name": "python",
   "nbconvert_exporter": "python",
   "pygments_lexer": "ipython3",
   "version": "3.10.6"
  },
  "toc-autonumbering": false,
  "vscode": {
   "interpreter": {
    "hash": "d4d1e4263499bec80672ea0156c357c1ee493ec2b1c70f0acce89fc37c4a6abe"
   }
  }
 },
 "nbformat": 4,
 "nbformat_minor": 5
}
