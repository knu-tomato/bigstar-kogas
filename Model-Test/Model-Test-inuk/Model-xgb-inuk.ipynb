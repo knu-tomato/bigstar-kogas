{
 "cells": [
  {
   "cell_type": "markdown",
   "id": "74d46010-6bfd-4fed-b14b-71203ae3a679",
   "metadata": {},
   "source": [
    "# XGBoost 모델 테스트\n",
    "---"
   ]
  },
  {
   "cell_type": "code",
   "execution_count": 93,
   "id": "8bb9ae5c-a58b-4606-afa0-3aae593b5afc",
   "metadata": {},
   "outputs": [],
   "source": [
    "import pandas as pd\n",
    "import numpy as np\n",
    "import xgboost as xgb\n",
    "import matplotlib.pyplot as plt\n",
    "\n",
    "from sklearn.preprocessing import StandardScaler, MinMaxScaler\n",
    "from sklearn.model_selection import train_test_split, GridSearchCV"
   ]
  },
  {
   "cell_type": "markdown",
   "id": "a4140d9d-a3b0-4081-b4ac-79d48082dc6e",
   "metadata": {},
   "source": [
    "## [1] 데이터 로딩\n",
    "---"
   ]
  },
  {
   "cell_type": "code",
   "execution_count": 94,
   "id": "2e2a1bba-4881-40de-bb62-daa0d7870b84",
   "metadata": {},
   "outputs": [],
   "source": [
    "data_pre = pd.read_csv(\"./data/data_use.csv\", index_col=0)\n",
    "data_pred = pd.read_csv(\"./data/data_future.csv\", index_col=0)\n",
    "target = pd.read_csv(\"./data/target.csv\", index_col=0)\n",
    "\n",
    "# 데이터 병합\n",
    "data = pd.concat([data_pre, data_pred], axis=0)\n",
    "data = data.iloc[:468, ]\n",
    "\n",
    "# 산업용 컬럼 추출\n",
    "ind_cols = [\"TEMP_EF\", \"POWER_GAS\", \"ELEC_IND_SUM\", \"OIL_PRICE\", \"QVA\"]\n",
    "data = data.loc[:, ind_cols]\n",
    "\n",
    "# 산업용 타겟 추출\n",
    "target = target.loc[:, [\"IND\"]]"
   ]
  },
  {
   "cell_type": "code",
   "execution_count": 95,
   "id": "260fbf31-8fc4-448b-b59f-680ddcedd2f9",
   "metadata": {},
   "outputs": [
    {
     "data": {
      "text/html": [
       "<div>\n",
       "<style scoped>\n",
       "    .dataframe tbody tr th:only-of-type {\n",
       "        vertical-align: middle;\n",
       "    }\n",
       "\n",
       "    .dataframe tbody tr th {\n",
       "        vertical-align: top;\n",
       "    }\n",
       "\n",
       "    .dataframe thead th {\n",
       "        text-align: right;\n",
       "    }\n",
       "</style>\n",
       "<table border=\"1\" class=\"dataframe\">\n",
       "  <thead>\n",
       "    <tr style=\"text-align: right;\">\n",
       "      <th></th>\n",
       "      <th>IND</th>\n",
       "    </tr>\n",
       "    <tr>\n",
       "      <th>DATE</th>\n",
       "      <th></th>\n",
       "    </tr>\n",
       "  </thead>\n",
       "  <tbody>\n",
       "    <tr>\n",
       "      <th>1996-01-01</th>\n",
       "      <td>83809</td>\n",
       "    </tr>\n",
       "    <tr>\n",
       "      <th>1996-02-01</th>\n",
       "      <td>70427</td>\n",
       "    </tr>\n",
       "    <tr>\n",
       "      <th>1996-03-01</th>\n",
       "      <td>62652</td>\n",
       "    </tr>\n",
       "    <tr>\n",
       "      <th>1996-04-01</th>\n",
       "      <td>47050</td>\n",
       "    </tr>\n",
       "    <tr>\n",
       "      <th>1996-05-01</th>\n",
       "      <td>30709</td>\n",
       "    </tr>\n",
       "  </tbody>\n",
       "</table>\n",
       "</div>"
      ],
      "text/plain": [
       "              IND\n",
       "DATE             \n",
       "1996-01-01  83809\n",
       "1996-02-01  70427\n",
       "1996-03-01  62652\n",
       "1996-04-01  47050\n",
       "1996-05-01  30709"
      ]
     },
     "execution_count": 95,
     "metadata": {},
     "output_type": "execute_result"
    }
   ],
   "source": [
    "target.head()"
   ]
  },
  {
   "cell_type": "code",
   "execution_count": 96,
   "id": "8bb47274-daae-44e1-b648-8b521f51f0c4",
   "metadata": {},
   "outputs": [
    {
     "data": {
      "text/html": [
       "<div>\n",
       "<style scoped>\n",
       "    .dataframe tbody tr th:only-of-type {\n",
       "        vertical-align: middle;\n",
       "    }\n",
       "\n",
       "    .dataframe tbody tr th {\n",
       "        vertical-align: top;\n",
       "    }\n",
       "\n",
       "    .dataframe thead th {\n",
       "        text-align: right;\n",
       "    }\n",
       "</style>\n",
       "<table border=\"1\" class=\"dataframe\">\n",
       "  <thead>\n",
       "    <tr style=\"text-align: right;\">\n",
       "      <th></th>\n",
       "      <th>TEMP_EF</th>\n",
       "      <th>POWER_GAS</th>\n",
       "      <th>ELEC_IND_SUM</th>\n",
       "      <th>OIL_PRICE</th>\n",
       "      <th>QVA</th>\n",
       "    </tr>\n",
       "    <tr>\n",
       "      <th>DATE</th>\n",
       "      <th></th>\n",
       "      <th></th>\n",
       "      <th></th>\n",
       "      <th></th>\n",
       "      <th></th>\n",
       "    </tr>\n",
       "  </thead>\n",
       "  <tbody>\n",
       "    <tr>\n",
       "      <th>1996-01-01</th>\n",
       "      <td>3.744768</td>\n",
       "      <td>8408979</td>\n",
       "      <td>9236808</td>\n",
       "      <td>27.86</td>\n",
       "      <td>36550.300000</td>\n",
       "    </tr>\n",
       "    <tr>\n",
       "      <th>1996-02-01</th>\n",
       "      <td>3.732234</td>\n",
       "      <td>7593086</td>\n",
       "      <td>8465308</td>\n",
       "      <td>29.04</td>\n",
       "      <td>36751.000000</td>\n",
       "    </tr>\n",
       "    <tr>\n",
       "      <th>1996-03-01</th>\n",
       "      <td>3.621268</td>\n",
       "      <td>8306941</td>\n",
       "      <td>9677322</td>\n",
       "      <td>27.99</td>\n",
       "      <td>36951.700000</td>\n",
       "    </tr>\n",
       "    <tr>\n",
       "      <th>1996-04-01</th>\n",
       "      <td>3.460496</td>\n",
       "      <td>8299351</td>\n",
       "      <td>9650845</td>\n",
       "      <td>28.74</td>\n",
       "      <td>37152.400000</td>\n",
       "    </tr>\n",
       "    <tr>\n",
       "      <th>1996-05-01</th>\n",
       "      <td>3.305460</td>\n",
       "      <td>8156027</td>\n",
       "      <td>9658045</td>\n",
       "      <td>29.18</td>\n",
       "      <td>37365.733333</td>\n",
       "    </tr>\n",
       "  </tbody>\n",
       "</table>\n",
       "</div>"
      ],
      "text/plain": [
       "             TEMP_EF  POWER_GAS  ELEC_IND_SUM  OIL_PRICE           QVA\n",
       "DATE                                                                  \n",
       "1996-01-01  3.744768    8408979       9236808      27.86  36550.300000\n",
       "1996-02-01  3.732234    7593086       8465308      29.04  36751.000000\n",
       "1996-03-01  3.621268    8306941       9677322      27.99  36951.700000\n",
       "1996-04-01  3.460496    8299351       9650845      28.74  37152.400000\n",
       "1996-05-01  3.305460    8156027       9658045      29.18  37365.733333"
      ]
     },
     "execution_count": 96,
     "metadata": {},
     "output_type": "execute_result"
    }
   ],
   "source": [
    "data.head()"
   ]
  },
  {
   "cell_type": "markdown",
   "id": "a4dacc06-eed9-44f3-88ea-aec23857b30d",
   "metadata": {},
   "source": [
    "## [2] 데이터 전처리\n",
    "---"
   ]
  },
  {
   "cell_type": "markdown",
   "id": "2451eccd-0567-47a4-8da6-13e90d5c0390",
   "metadata": {},
   "source": [
    "### [2-1] 데이터 정규화"
   ]
  },
  {
   "cell_type": "code",
   "execution_count": null,
   "id": "02dbf2ba-b5e3-4085-b3c1-a4fe2bb7150f",
   "metadata": {},
   "outputs": [],
   "source": []
  },
  {
   "cell_type": "markdown",
   "id": "05b66ec8-8076-45f6-91c7-121ef48e3d8f",
   "metadata": {},
   "source": [
    "### [2-2] 데이터 분할"
   ]
  },
  {
   "cell_type": "code",
   "execution_count": 97,
   "id": "6c01d609-b6cd-4f88-be13-1b22aca462ed",
   "metadata": {},
   "outputs": [],
   "source": [
    "# 학습, 예측 데이터 분리\n",
    "data_train = data.iloc[:300,:]\n",
    "\n",
    "X_train, X_test, y_train, y_test = train_test_split(\n",
    "    data_train, target , test_size=0.2, random_state=42\n",
    ")\n",
    "\n",
    "X_pred = data.iloc[300:, :]"
   ]
  },
  {
   "cell_type": "markdown",
   "id": "51ff89b9-c439-4630-bbb2-011a7f9bfa2f",
   "metadata": {},
   "source": [
    "## [3] 모델\n",
    "---"
   ]
  },
  {
   "cell_type": "markdown",
   "id": "37d1b437-8804-478f-b0f9-e216d7dec4d6",
   "metadata": {},
   "source": [
    "### [3-1] 모델 생성"
   ]
  },
  {
   "cell_type": "code",
   "execution_count": 98,
   "id": "2887c03a-8f20-47a9-81cd-eac380fcd242",
   "metadata": {},
   "outputs": [
    {
     "data": {
      "text/plain": [
       "{'colsample_bytree': 0.7,\n",
       " 'max_depth': 5,\n",
       " 'min_child_weight': 5,\n",
       " 'reg_alpha': 0.001}"
      ]
     },
     "execution_count": 98,
     "metadata": {},
     "output_type": "execute_result"
    }
   ],
   "source": [
    "model = xgb.XGBRegressor()\n",
    "\n",
    "params = {\n",
    "    'max_depth': [3, 5, 7],\n",
    "    'reg_alpha': [0.001, 0.01, 1, 10],\n",
    "    'min_child_weight': [0.5, 1, 3, 5],\n",
    "    'colsample_bytree': [0.3, 0.5, 0.7, 1],\n",
    "}\n",
    "\n",
    "grid = GridSearchCV(\n",
    "    model,\n",
    "    params,\n",
    "    cv=5\n",
    ")\n",
    "\n",
    "grid.fit(X_train, y_train)\n",
    "grid.best_params_"
   ]
  },
  {
   "cell_type": "code",
   "execution_count": 99,
   "id": "38979ba9-d7cd-440e-9088-efed5478bac8",
   "metadata": {},
   "outputs": [
    {
     "data": {
      "text/plain": [
       "0.9802979747372096"
      ]
     },
     "execution_count": 99,
     "metadata": {},
     "output_type": "execute_result"
    }
   ],
   "source": [
    "best_params = grid.best_params_\n",
    "\n",
    "model = xgb.XGBRegressor(\n",
    "    **best_params\n",
    ")\n",
    "\n",
    "model.fit(X_train, y_train)\n",
    "\n",
    "model.score(X_test, y_test)"
   ]
  },
  {
   "cell_type": "code",
   "execution_count": 100,
   "id": "bdcca92a-e132-4f83-9301-99a0a182543a",
   "metadata": {},
   "outputs": [
    {
     "data": {
      "image/png": "[encoded data removed]",
      "text/plain": [
       "<Figure size 640x480 with 1 Axes>"
      ]
     },
     "metadata": {},
     "output_type": "display_data"
    }
   ],
   "source": [
    "pred = list(target[\"IND\"]) + list(model.predict(X_pred))\n",
    "\n",
    "plt.plot(pred);"
   ]
  },
  {
   "cell_type": "code",
   "execution_count": null,
   "id": "23579ed2-687c-4e24-a2f0-222e872d9a89",
   "metadata": {},
   "outputs": [],
   "source": []
  }
 ],
 "metadata": {
  "kernelspec": {
   "display_name": "Python 3 (ipykernel)",
   "language": "python",
   "name": "python3"
  },
  "language_info": {
   "codemirror_mode": {
    "name": "ipython",
    "version": 3
   },
   "file_extension": ".py",
   "mimetype": "text/x-python",
   "name": "python",
   "nbconvert_exporter": "python",
   "pygments_lexer": "ipython3",
   "version": "3.10.6"
  }
 },
 "nbformat": 4,
 "nbformat_minor": 5
}
